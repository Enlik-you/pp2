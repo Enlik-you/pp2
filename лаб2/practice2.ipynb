{
 "cells": [
  {
   "cell_type": "markdown",
   "id": "9b6881ef-3ccb-4aaf-9dba-a10abc71eca1",
   "metadata": {},
   "source": [
    "exam1"
   ]
  },
  {
   "cell_type": "code",
   "execution_count": 2,
   "id": "7856e097-671c-4ff3-a35d-b110c14962ec",
   "metadata": {},
   "outputs": [
    {
     "name": "stdout",
     "output_type": "stream",
     "text": [
      "b is not greater than a\n"
     ]
    }
   ],
   "source": [
    "a = 200\n",
    "b = 33\n",
    "\n",
    "if b > a:\n",
    "  print(\"b is greater than a\")\n",
    "else:\n",
    "  print(\"b is not greater than a\")\n"
   ]
  },
  {
   "cell_type": "markdown",
   "id": "b5f7605f-7d5e-4058-8968-4bfeec2b5d59",
   "metadata": {},
   "source": [
    "ex2"
   ]
  },
  {
   "cell_type": "code",
   "execution_count": 5,
   "id": "1b0e8e2f-841e-4a9a-9198-2ec8e615dfc0",
   "metadata": {},
   "outputs": [
    {
     "name": "stdout",
     "output_type": "stream",
     "text": [
      "True\n",
      "True\n"
     ]
    }
   ],
   "source": [
    "print(bool(\"Hello\"))\n",
    "print(bool(15))"
   ]
  },
  {
   "cell_type": "markdown",
   "id": "a5e45c29-f194-47ab-ab23-b2c2e2a1d86a",
   "metadata": {},
   "source": [
    "ex3"
   ]
  },
  {
   "cell_type": "code",
   "execution_count": 10,
   "id": "51a277ac-2341-4708-b0ac-482f45497546",
   "metadata": {},
   "outputs": [
    {
     "name": "stdout",
     "output_type": "stream",
     "text": [
      "False\n"
     ]
    }
   ],
   "source": [
    "print(bool(False))\n"
   ]
  },
  {
   "cell_type": "markdown",
   "id": "7faf714f-823d-4d37-9f30-1f963c7a0e11",
   "metadata": {},
   "source": [
    "ex4"
   ]
  },
  {
   "cell_type": "code",
   "execution_count": 13,
   "id": "fc8978a6-944c-4cf6-8da6-8ee391fb1a42",
   "metadata": {},
   "outputs": [
    {
     "name": "stdout",
     "output_type": "stream",
     "text": [
      "False\n"
     ]
    }
   ],
   "source": [
    "class myclass():\n",
    "  def __len__(self):\n",
    "    return 0\n",
    "\n",
    "myobj = myclass()\n",
    "print(bool(myobj))"
   ]
  },
  {
   "cell_type": "markdown",
   "id": "ef1251b2-c7f0-41b4-86a2-976570f8c0c9",
   "metadata": {},
   "source": [
    "ex5"
   ]
  },
  {
   "cell_type": "code",
   "execution_count": 16,
   "id": "7be1639a-8637-4d76-b42c-74ba57c87ae7",
   "metadata": {},
   "outputs": [
    {
     "name": "stdout",
     "output_type": "stream",
     "text": [
      "True\n"
     ]
    }
   ],
   "source": [
    "def myFunction() :\n",
    "  return True\n",
    "\n",
    "print(myFunction())"
   ]
  },
  {
   "cell_type": "markdown",
   "id": "4793bb1f-9b89-4285-9aca-6b571d0cc31c",
   "metadata": {},
   "source": [
    "ex6"
   ]
  },
  {
   "cell_type": "code",
   "execution_count": 19,
   "id": "8c8a9f21-1c13-49e5-b4ac-9189f33dc25a",
   "metadata": {},
   "outputs": [
    {
     "name": "stdout",
     "output_type": "stream",
     "text": [
      "YES!\n"
     ]
    }
   ],
   "source": [
    "def myFunction() :\n",
    "  return True\n",
    "\n",
    "if myFunction():\n",
    "  print(\"YES!\")\n",
    "else:\n",
    "  print(\"NO!\")"
   ]
  },
  {
   "cell_type": "markdown",
   "id": "cbd4d3ae-29e1-4778-9f77-00a9b975e507",
   "metadata": {},
   "source": [
    "ex7"
   ]
  },
  {
   "cell_type": "code",
   "execution_count": 22,
   "id": "e58cd0d3-7b75-4432-a92d-77ff71903938",
   "metadata": {},
   "outputs": [
    {
     "name": "stdout",
     "output_type": "stream",
     "text": [
      "True\n"
     ]
    }
   ],
   "source": [
    "x = 200\n",
    "print(isinstance(x, int))"
   ]
  },
  {
   "cell_type": "markdown",
   "id": "65c3a1c5-ae08-47cc-8a8c-83b23f690188",
   "metadata": {},
   "source": [
    "ex8"
   ]
  },
  {
   "cell_type": "code",
   "execution_count": 25,
   "id": "f8abdce7-659d-4cc8-84d9-f8963ac3a0b9",
   "metadata": {},
   "outputs": [
    {
     "name": "stdout",
     "output_type": "stream",
     "text": [
      "True\n",
      "False\n",
      "True\n"
     ]
    }
   ],
   "source": [
    "x = [\"apple\", \"banana\"]\n",
    "y = [\"apple\", \"banana\"]\n",
    "z = x\n",
    "\n",
    "print(x is z)\n",
    "print(x is y)\n",
    "print(x == y)"
   ]
  },
  {
   "cell_type": "markdown",
   "id": "dbab0d21-f152-43b3-942b-389300445fad",
   "metadata": {},
   "source": [
    "ex9"
   ]
  },
  {
   "cell_type": "code",
   "execution_count": 28,
   "id": "d3ab331b-89be-4c06-bd39-2aa9d23fa9c4",
   "metadata": {},
   "outputs": [
    {
     "name": "stdout",
     "output_type": "stream",
     "text": [
      "['apple', 'banana', 'cherry']\n"
     ]
    }
   ],
   "source": [
    "thislist = [\"apple\", \"banana\", \"cherry\"]\n",
    "print(thislist)\n"
   ]
  },
  {
   "cell_type": "markdown",
   "id": "0cb4a28d-87c3-4271-a01d-4e2acaba9b7f",
   "metadata": {},
   "source": [
    "ex10"
   ]
  },
  {
   "cell_type": "code",
   "execution_count": 31,
   "id": "c1fa088a-fb41-481a-a839-c041eb9fbfa4",
   "metadata": {},
   "outputs": [
    {
     "name": "stdout",
     "output_type": "stream",
     "text": [
      "3\n"
     ]
    }
   ],
   "source": [
    "thislist = [\"apple\", \"banana\", \"cherry\"]\n",
    "print(len(thislist))"
   ]
  },
  {
   "cell_type": "markdown",
   "id": "fc6a4d55-a53f-445a-8119-a7dd28b888aa",
   "metadata": {},
   "source": [
    "ex11"
   ]
  },
  {
   "cell_type": "code",
   "execution_count": 34,
   "id": "30d19275-3a4c-4b79-8ce1-53f28abb8f6c",
   "metadata": {},
   "outputs": [],
   "source": [
    "list1 = [\"abc\", 34, True, 40, \"male\"]\n"
   ]
  },
  {
   "cell_type": "markdown",
   "id": "b4569219-dbb1-488a-943c-a2e3dddcffa4",
   "metadata": {},
   "source": [
    "ex12"
   ]
  },
  {
   "cell_type": "code",
   "execution_count": 37,
   "id": "60d9d902-03bc-4cd8-9935-65ba8286d5ad",
   "metadata": {},
   "outputs": [
    {
     "name": "stdout",
     "output_type": "stream",
     "text": [
      "<class 'list'>\n"
     ]
    }
   ],
   "source": [
    "mylist = [\"apple\", \"banana\", \"cherry\"]\n",
    "print(type(mylist))\n"
   ]
  },
  {
   "cell_type": "markdown",
   "id": "ad20efb6-6704-416d-92ca-ff9b90e6ab82",
   "metadata": {},
   "source": [
    "ex13"
   ]
  },
  {
   "cell_type": "code",
   "execution_count": 40,
   "id": "f2cfbcae-bedb-4c05-973f-5135fa8cd5ed",
   "metadata": {},
   "outputs": [
    {
     "name": "stdout",
     "output_type": "stream",
     "text": [
      "['apple', 'banana', 'cherry']\n"
     ]
    }
   ],
   "source": [
    "thislist = list((\"apple\", \"banana\", \"cherry\")) \n",
    "print(thislist)"
   ]
  },
  {
   "cell_type": "markdown",
   "id": "a75c2e82-4c39-4d8f-bd59-f57171906f26",
   "metadata": {},
   "source": [
    "ex14"
   ]
  },
  {
   "cell_type": "code",
   "execution_count": 43,
   "id": "11abc324-1ee4-4e6a-a1c7-8ff886b17dd9",
   "metadata": {},
   "outputs": [
    {
     "name": "stdout",
     "output_type": "stream",
     "text": [
      "banana\n"
     ]
    }
   ],
   "source": [
    "thislist = [\"apple\", \"banana\", \"cherry\"]\n",
    "print(thislist[1])\n"
   ]
  },
  {
   "cell_type": "markdown",
   "id": "7a5df750-6648-4fb2-bf4d-1cc0f678a85b",
   "metadata": {},
   "source": [
    "ex15"
   ]
  },
  {
   "cell_type": "code",
   "execution_count": 46,
   "id": "2b436099-62fc-423d-a903-d432e4ed64d2",
   "metadata": {},
   "outputs": [
    {
     "name": "stdout",
     "output_type": "stream",
     "text": [
      "['cherry', 'orange', 'kiwi']\n"
     ]
    }
   ],
   "source": [
    "thislist = [\"apple\", \"banana\", \"cherry\", \"orange\", \"kiwi\", \"melon\", \"mango\"]\n",
    "print(thislist[2:5])\n"
   ]
  },
  {
   "cell_type": "markdown",
   "id": "cb1bbd8e-57cb-43e8-b9a0-182f2cd51a71",
   "metadata": {},
   "source": [
    "ex16\n"
   ]
  },
  {
   "cell_type": "code",
   "execution_count": 49,
   "id": "84647a78-bcd7-41d9-afa5-adbb248b1004",
   "metadata": {},
   "outputs": [
    {
     "name": "stdout",
     "output_type": "stream",
     "text": [
      "Yes, 'apple' is in the fruits list\n"
     ]
    }
   ],
   "source": [
    "thislist = [\"apple\", \"banana\", \"cherry\"]\n",
    "if \"apple\" in thislist:\n",
    "  print(\"Yes, 'apple' is in the fruits list\")"
   ]
  },
  {
   "cell_type": "markdown",
   "id": "c1985ce5-587c-40bf-a59c-08d1c25d9da2",
   "metadata": {},
   "source": [
    "ex17"
   ]
  },
  {
   "cell_type": "code",
   "execution_count": 52,
   "id": "fae18cc6-52f7-4911-a9f1-91600c89e9b6",
   "metadata": {},
   "outputs": [
    {
     "name": "stdout",
     "output_type": "stream",
     "text": [
      "['apple', 'blackcurrant', 'cherry']\n"
     ]
    }
   ],
   "source": [
    "thislist = [\"apple\", \"banana\", \"cherry\"]\n",
    "thislist[1] = \"blackcurrant\"\n",
    "print(thislist)"
   ]
  },
  {
   "cell_type": "markdown",
   "id": "ae177c4d-9fff-4e03-b506-7ad996d40227",
   "metadata": {},
   "source": [
    "ex18"
   ]
  },
  {
   "cell_type": "code",
   "execution_count": 55,
   "id": "b692d03f-0c79-4b07-87f2-3a58e3403de1",
   "metadata": {},
   "outputs": [
    {
     "name": "stdout",
     "output_type": "stream",
     "text": [
      "['apple', 'blackcurrant', 'watermelon', 'orange', 'kiwi', 'mango']\n"
     ]
    }
   ],
   "source": [
    "thislist = [\"apple\", \"banana\", \"cherry\", \"orange\", \"kiwi\", \"mango\"]\n",
    "thislist[1:3] = [\"blackcurrant\", \"watermelon\"]\n",
    "print(thislist)\n"
   ]
  },
  {
   "cell_type": "markdown",
   "id": "836f62aa-f0e5-4f5f-b5d8-c34b92e07e9a",
   "metadata": {},
   "source": [
    "ex19"
   ]
  },
  {
   "cell_type": "code",
   "execution_count": 58,
   "id": "3dab84e8-09db-43bc-af47-79be5dadc0ff",
   "metadata": {},
   "outputs": [
    {
     "name": "stdout",
     "output_type": "stream",
     "text": [
      "['apple', 'blackcurrant', 'watermelon', 'cherry']\n"
     ]
    }
   ],
   "source": [
    "thislist = [\"apple\", \"banana\", \"cherry\"]\n",
    "thislist[1:2] = [\"blackcurrant\", \"watermelon\"]\n",
    "print(thislist)\n"
   ]
  },
  {
   "cell_type": "markdown",
   "id": "9e78f54b-5482-4751-b323-99c41df50ffb",
   "metadata": {},
   "source": [
    "ex20"
   ]
  },
  {
   "cell_type": "code",
   "execution_count": 61,
   "id": "e7af1951-5b3a-411f-a580-9bd8b95b31ec",
   "metadata": {},
   "outputs": [
    {
     "name": "stdout",
     "output_type": "stream",
     "text": [
      "['apple', 'watermelon']\n"
     ]
    }
   ],
   "source": [
    "thislist = [\"apple\", \"banana\", \"cherry\"]\n",
    "thislist[1:3] = [\"watermelon\"]\n",
    "print(thislist)\n"
   ]
  },
  {
   "cell_type": "markdown",
   "id": "1abda96c-4b2f-4b3a-abea-b72f2c78eae9",
   "metadata": {},
   "source": [
    "ex21"
   ]
  },
  {
   "cell_type": "code",
   "execution_count": 64,
   "id": "8939911f-ff5a-460d-aa29-dc132095993e",
   "metadata": {},
   "outputs": [
    {
     "name": "stdout",
     "output_type": "stream",
     "text": [
      "['apple', 'banana', 'cherry', 'orange']\n"
     ]
    }
   ],
   "source": [
    "thislist = [\"apple\", \"banana\", \"cherry\"]\n",
    "thislist.append(\"orange\")\n",
    "print(thislist)"
   ]
  },
  {
   "cell_type": "markdown",
   "id": "2a837c86-95d1-4d87-a0cd-d8f18e006ffe",
   "metadata": {},
   "source": [
    "ex22"
   ]
  },
  {
   "cell_type": "code",
   "execution_count": 67,
   "id": "a7b3baaf-156c-4ffc-8169-2e127bc342f2",
   "metadata": {},
   "outputs": [
    {
     "name": "stdout",
     "output_type": "stream",
     "text": [
      "['apple', 'orange', 'banana', 'cherry']\n"
     ]
    }
   ],
   "source": [
    "thislist = [\"apple\", \"banana\", \"cherry\"]\n",
    "thislist.insert(1, \"orange\")\n",
    "print(thislist)"
   ]
  },
  {
   "cell_type": "markdown",
   "id": "2d4357b9-7727-4c45-acea-39191fd5c702",
   "metadata": {},
   "source": [
    "ex23"
   ]
  },
  {
   "cell_type": "code",
   "execution_count": 70,
   "id": "b526f0bd-15ae-48b2-bd48-e1d8a4f84959",
   "metadata": {},
   "outputs": [
    {
     "name": "stdout",
     "output_type": "stream",
     "text": [
      "['apple', 'banana', 'cherry', 'mango', 'pineapple', 'papaya']\n"
     ]
    }
   ],
   "source": [
    "thislist = [\"apple\", \"banana\", \"cherry\"]\n",
    "tropical = [\"mango\", \"pineapple\", \"papaya\"]\n",
    "thislist.extend(tropical)\n",
    "print(thislist)\n"
   ]
  },
  {
   "cell_type": "markdown",
   "id": "18718b2a-c03f-487a-8c76-ed874322f8c5",
   "metadata": {},
   "source": [
    "ex24"
   ]
  },
  {
   "cell_type": "code",
   "execution_count": 73,
   "id": "fd82a1ad-d3da-4e19-85fc-eaa2f32414db",
   "metadata": {},
   "outputs": [
    {
     "name": "stdout",
     "output_type": "stream",
     "text": [
      "['apple', 'banana', 'cherry', 'kiwi', 'orange']\n"
     ]
    }
   ],
   "source": [
    "thislist = [\"apple\", \"banana\", \"cherry\"]\n",
    "thistuple = (\"kiwi\", \"orange\")\n",
    "thislist.extend(thistuple)\n",
    "print(thislist)"
   ]
  },
  {
   "cell_type": "markdown",
   "id": "bb916a6d-5e2a-47b9-9a6b-95dad6fed2a7",
   "metadata": {},
   "source": [
    "ex25"
   ]
  },
  {
   "cell_type": "code",
   "execution_count": 76,
   "id": "2b22dcc0-30a3-41cd-8d28-e18b78f82c71",
   "metadata": {},
   "outputs": [
    {
     "name": "stdout",
     "output_type": "stream",
     "text": [
      "['apple', 'cherry']\n"
     ]
    }
   ],
   "source": [
    "thislist = [\"apple\", \"banana\", \"cherry\"]\n",
    "thislist.remove(\"banana\")\n",
    "print(thislist)\n"
   ]
  },
  {
   "cell_type": "markdown",
   "id": "ecb3f57e-19d1-427a-bd05-aed5185b3d90",
   "metadata": {},
   "source": [
    "ex26"
   ]
  },
  {
   "cell_type": "code",
   "execution_count": 79,
   "id": "7ee91a47-0b93-4c48-b9b2-ad37087e63af",
   "metadata": {},
   "outputs": [
    {
     "name": "stdout",
     "output_type": "stream",
     "text": [
      "['apple', 'cherry']\n"
     ]
    }
   ],
   "source": [
    "thislist = [\"apple\", \"banana\", \"cherry\"]\n",
    "thislist.pop(1)\n",
    "print(thislist)\n"
   ]
  },
  {
   "cell_type": "markdown",
   "id": "81e5cb2e-535d-4dcd-a60c-e7ee60d1a261",
   "metadata": {},
   "source": [
    "ex27"
   ]
  },
  {
   "cell_type": "code",
   "execution_count": 82,
   "id": "0dcf81cb-ed7d-47a0-8a42-b293f8dedb18",
   "metadata": {},
   "outputs": [
    {
     "name": "stdout",
     "output_type": "stream",
     "text": [
      "['apple', 'banana']\n"
     ]
    }
   ],
   "source": [
    "thislist = [\"apple\", \"banana\", \"cherry\"]\n",
    "thislist.pop()\n",
    "print(thislist)"
   ]
  },
  {
   "cell_type": "markdown",
   "id": "8021cb74-2d0d-49b6-892d-94515a441658",
   "metadata": {},
   "source": [
    "ex28"
   ]
  },
  {
   "cell_type": "code",
   "execution_count": 85,
   "id": "336d6b75-e43a-418a-a0a3-13cecdbd6f25",
   "metadata": {},
   "outputs": [
    {
     "name": "stdout",
     "output_type": "stream",
     "text": [
      "['banana', 'cherry']\n"
     ]
    }
   ],
   "source": [
    "thislist = [\"apple\", \"banana\", \"cherry\"]\n",
    "del thislist[0]\n",
    "print(thislist)\n"
   ]
  },
  {
   "cell_type": "markdown",
   "id": "74485982-10dc-449b-bed7-5eafad5fd714",
   "metadata": {},
   "source": [
    "ex29"
   ]
  },
  {
   "cell_type": "code",
   "execution_count": 92,
   "id": "54ff820d-7953-4781-b002-3db5a7127615",
   "metadata": {},
   "outputs": [],
   "source": [
    "thislist = [\"apple\", \"banana\", \"cherry\"]\n",
    "del thislist\n"
   ]
  },
  {
   "cell_type": "markdown",
   "id": "c0b2f632-88dd-4753-b0d3-c872385d9999",
   "metadata": {},
   "source": [
    "ex30"
   ]
  },
  {
   "cell_type": "code",
   "execution_count": 95,
   "id": "764785f5-bdde-422d-9d0f-460d159a74eb",
   "metadata": {},
   "outputs": [
    {
     "name": "stdout",
     "output_type": "stream",
     "text": [
      "[]\n"
     ]
    }
   ],
   "source": [
    "thislist = [\"apple\", \"banana\", \"cherry\"]\n",
    "thislist.clear()\n",
    "print(thislist)\n"
   ]
  },
  {
   "cell_type": "markdown",
   "id": "d32b9691-3227-4602-8141-aa4b53808a22",
   "metadata": {},
   "source": [
    "ex31"
   ]
  },
  {
   "cell_type": "code",
   "execution_count": 98,
   "id": "b6e07416-b8d5-4549-ab4b-a7657202b256",
   "metadata": {},
   "outputs": [
    {
     "name": "stdout",
     "output_type": "stream",
     "text": [
      "apple\n",
      "banana\n",
      "cherry\n"
     ]
    }
   ],
   "source": [
    "thislist = [\"apple\", \"banana\", \"cherry\"]\n",
    "for x in thislist:\n",
    "  print(x)"
   ]
  },
  {
   "cell_type": "markdown",
   "id": "3c53e8e0-60c6-4b99-ae2d-e17d5a687d46",
   "metadata": {},
   "source": [
    "ex32"
   ]
  },
  {
   "cell_type": "code",
   "execution_count": 101,
   "id": "23cc34a3-2f60-4c37-9e1c-92dac2e80968",
   "metadata": {},
   "outputs": [
    {
     "name": "stdout",
     "output_type": "stream",
     "text": [
      "apple\n",
      "banana\n",
      "cherry\n"
     ]
    }
   ],
   "source": [
    "thislist = [\"apple\", \"banana\", \"cherry\"]\n",
    "for i in range(len(thislist)):\n",
    "  print(thislist[i])"
   ]
  },
  {
   "cell_type": "markdown",
   "id": "40a62524-bbc2-4260-80d6-d2e059aaa00f",
   "metadata": {},
   "source": [
    "ex33"
   ]
  },
  {
   "cell_type": "code",
   "execution_count": 104,
   "id": "e6f33c63-1cdf-4b15-95e7-6fd220a4d6ef",
   "metadata": {},
   "outputs": [
    {
     "name": "stdout",
     "output_type": "stream",
     "text": [
      "apple\n",
      "banana\n",
      "cherry\n"
     ]
    }
   ],
   "source": [
    "thislist = [\"apple\", \"banana\", \"cherry\"]\n",
    "i = 0\n",
    "while i < len(thislist):\n",
    "  print(thislist[i])\n",
    "  i = i + 1"
   ]
  },
  {
   "cell_type": "markdown",
   "id": "70f7298d-ae52-491d-8cf8-4f4d6f84fad8",
   "metadata": {},
   "source": [
    "ex34"
   ]
  },
  {
   "cell_type": "code",
   "execution_count": 109,
   "id": "e482a75e-1826-4dc0-b6fd-949e7ab9adfb",
   "metadata": {},
   "outputs": [
    {
     "name": "stdout",
     "output_type": "stream",
     "text": [
      "['apple', 'banana', 'mango']\n"
     ]
    }
   ],
   "source": [
    "fruits = [\"apple\", \"banana\", \"cherry\", \"kiwi\", \"mango\"]\n",
    "newlist = []\n",
    "\n",
    "for x in fruits:\n",
    "  if \"a\" in x:\n",
    "    newlist.append(x)\n",
    "\n",
    "print(newlist)"
   ]
  },
  {
   "cell_type": "markdown",
   "id": "5ee40312-0a4d-4f22-92ef-498f31b23dea",
   "metadata": {},
   "source": [
    "ex35"
   ]
  },
  {
   "cell_type": "code",
   "execution_count": 112,
   "id": "7f4741e7-c492-4f06-b3f4-5bdc6f9c737d",
   "metadata": {},
   "outputs": [
    {
     "name": "stdout",
     "output_type": "stream",
     "text": [
      "['apple', 'banana', 'mango']\n"
     ]
    }
   ],
   "source": [
    "fruits = [\"apple\", \"banana\", \"cherry\", \"kiwi\", \"mango\"]\n",
    "\n",
    "newlist = [x for x in fruits if \"a\" in x]\n",
    "\n",
    "print(newlist)"
   ]
  },
  {
   "cell_type": "markdown",
   "id": "b7ffea6a-50cf-41ef-8854-8b48dadaadcc",
   "metadata": {},
   "source": [
    "ex36"
   ]
  },
  {
   "cell_type": "code",
   "execution_count": 115,
   "id": "bc4e8e9b-ed34-4b41-9a89-01a8302bcffd",
   "metadata": {},
   "outputs": [
    {
     "name": "stdout",
     "output_type": "stream",
     "text": [
      "['banana', 'cherry', 'kiwi', 'mango']\n"
     ]
    }
   ],
   "source": [
    "fruits = [\"apple\", \"banana\", \"cherry\", \"kiwi\", \"mango\"]\n",
    "newlist = [x for x in fruits if x != \"apple\"]\n",
    "print(newlist)\n"
   ]
  },
  {
   "cell_type": "markdown",
   "id": "b2246e80-9e72-49cd-b0a4-06188148e51c",
   "metadata": {},
   "source": [
    "ex37"
   ]
  },
  {
   "cell_type": "code",
   "execution_count": 118,
   "id": "d1b9c95d-cd2c-4394-98a1-dd67064c2298",
   "metadata": {},
   "outputs": [
    {
     "name": "stdout",
     "output_type": "stream",
     "text": [
      "[0, 1, 2, 3, 4]\n"
     ]
    }
   ],
   "source": [
    "newlist = [x for x in range(10) if x < 5]\n",
    "print(newlist)"
   ]
  },
  {
   "cell_type": "markdown",
   "id": "a6b1c048-a5e2-4743-a581-77e0e75a7a39",
   "metadata": {},
   "source": [
    "ex38"
   ]
  },
  {
   "cell_type": "code",
   "execution_count": 121,
   "id": "8c7d508f-c97a-4ac6-93b7-94afb5a81a97",
   "metadata": {},
   "outputs": [
    {
     "name": "stdout",
     "output_type": "stream",
     "text": [
      "['APPLE', 'BANANA', 'CHERRY', 'KIWI', 'MANGO']\n"
     ]
    }
   ],
   "source": [
    "fruits = [\"apple\", \"banana\", \"cherry\", \"kiwi\", \"mango\"]\n",
    "newlist = [x.upper() for x in fruits]\n",
    "print(newlist)"
   ]
  },
  {
   "cell_type": "markdown",
   "id": "e4d7cc67-9e19-4a92-a7fb-b0bb081d7ee9",
   "metadata": {},
   "source": [
    "ex39"
   ]
  },
  {
   "cell_type": "code",
   "execution_count": 124,
   "id": "35106c69-655f-451b-9400-8ae12f96da5f",
   "metadata": {},
   "outputs": [
    {
     "name": "stdout",
     "output_type": "stream",
     "text": [
      "['hello', 'hello', 'hello', 'hello', 'hello']\n"
     ]
    }
   ],
   "source": [
    "newlist = ['hello' for x in fruits]\n",
    "fruits = [\"apple\", \"banana\", \"cherry\", \"kiwi\", \"mango\"]\n",
    "print(newlist)"
   ]
  },
  {
   "cell_type": "markdown",
   "id": "fc21db8a-091f-4f82-83a0-e8fc297b4e52",
   "metadata": {},
   "source": [
    "ex40"
   ]
  },
  {
   "cell_type": "code",
   "execution_count": 127,
   "id": "c7e58dfb-c4ab-4d5d-b592-0fb9f3fb035d",
   "metadata": {},
   "outputs": [
    {
     "name": "stdout",
     "output_type": "stream",
     "text": [
      "['banana', 'kiwi', 'mango', 'orange', 'pineapple']\n"
     ]
    }
   ],
   "source": [
    "thislist = [\"orange\", \"mango\", \"kiwi\", \"pineapple\", \"banana\"]\n",
    "thislist.sort()\n",
    "print(thislist)\n"
   ]
  },
  {
   "cell_type": "markdown",
   "id": "997cce10-ccc7-466d-9a71-bc09fa45e5c0",
   "metadata": {},
   "source": [
    "ex41"
   ]
  },
  {
   "cell_type": "code",
   "execution_count": 130,
   "id": "569af1ed-128b-408e-9d5d-154f4ce2aca7",
   "metadata": {},
   "outputs": [
    {
     "name": "stdout",
     "output_type": "stream",
     "text": [
      "[23, 50, 65, 82, 100]\n"
     ]
    }
   ],
   "source": [
    "thislist = [100, 50, 65, 82, 23]\n",
    "thislist.sort()\n",
    "print(thislist)\n"
   ]
  },
  {
   "cell_type": "markdown",
   "id": "0eaa15da-3b25-41e9-b463-1033a3180e8d",
   "metadata": {},
   "source": [
    "ex42"
   ]
  },
  {
   "cell_type": "code",
   "execution_count": 133,
   "id": "a3ebb3eb-6ece-4b8f-8aec-aeeda27aca14",
   "metadata": {},
   "outputs": [
    {
     "name": "stdout",
     "output_type": "stream",
     "text": [
      "['pineapple', 'orange', 'mango', 'kiwi', 'banana']\n"
     ]
    }
   ],
   "source": [
    "thislist = [\"orange\", \"mango\", \"kiwi\", \"pineapple\", \"banana\"]\n",
    "thislist.sort(reverse = True)\n",
    "print(thislist)\n"
   ]
  },
  {
   "cell_type": "markdown",
   "id": "e9b1c9ab-76a1-4e23-9279-3096ee552ef8",
   "metadata": {},
   "source": [
    "ex43"
   ]
  },
  {
   "cell_type": "code",
   "execution_count": 136,
   "id": "1412b960-ec28-4ff3-846e-7c7af08a67ee",
   "metadata": {},
   "outputs": [
    {
     "name": "stdout",
     "output_type": "stream",
     "text": [
      "['Kiwi', 'Orange', 'banana', 'cherry']\n"
     ]
    }
   ],
   "source": [
    "thislist = [\"banana\", \"Orange\", \"Kiwi\", \"cherry\"]\n",
    "thislist.sort()\n",
    "print(thislist)\n"
   ]
  },
  {
   "cell_type": "markdown",
   "id": "f3e58f11-15fe-42a1-856b-44b4bd6dd7ef",
   "metadata": {},
   "source": [
    "ex44"
   ]
  },
  {
   "cell_type": "code",
   "execution_count": 139,
   "id": "f2b1611b-c049-4dfd-bc65-8df3c8815c37",
   "metadata": {},
   "outputs": [
    {
     "name": "stdout",
     "output_type": "stream",
     "text": [
      "['banana', 'cherry', 'Kiwi', 'Orange']\n"
     ]
    }
   ],
   "source": [
    "thislist = [\"banana\", \"Orange\", \"Kiwi\", \"cherry\"]\n",
    "thislist.sort(key = str.lower)\n",
    "print(thislist)\n"
   ]
  },
  {
   "cell_type": "markdown",
   "id": "d1be126f-27a5-4508-bad1-3606a151d20f",
   "metadata": {},
   "source": [
    "ex45"
   ]
  },
  {
   "cell_type": "code",
   "execution_count": 142,
   "id": "d6aee3d7-4e5f-4143-aa75-b770c33c6836",
   "metadata": {},
   "outputs": [
    {
     "name": "stdout",
     "output_type": "stream",
     "text": [
      "['cherry', 'Kiwi', 'Orange', 'banana']\n"
     ]
    }
   ],
   "source": [
    "thislist = [\"banana\", \"Orange\", \"Kiwi\", \"cherry\"]\n",
    "thislist.reverse()\n",
    "print(thislist)\n"
   ]
  },
  {
   "cell_type": "markdown",
   "id": "7f4ad7a0-7eb7-4e67-bbdd-b026b9948f95",
   "metadata": {},
   "source": [
    "ex46"
   ]
  },
  {
   "cell_type": "code",
   "execution_count": 145,
   "id": "2f49c135-ae9a-4e4c-8cb8-9368387e9fcc",
   "metadata": {},
   "outputs": [
    {
     "name": "stdout",
     "output_type": "stream",
     "text": [
      "['apple', 'banana', 'cherry']\n"
     ]
    }
   ],
   "source": [
    "thislist = [\"apple\", \"banana\", \"cherry\"]\n",
    "mylist = thislist.copy()\n",
    "print(mylist)\n"
   ]
  },
  {
   "cell_type": "markdown",
   "id": "8e62d8b7-3559-4969-ad23-b8ded896d6c0",
   "metadata": {},
   "source": [
    "ex47"
   ]
  },
  {
   "cell_type": "code",
   "execution_count": 148,
   "id": "c4c0b255-16ac-4f9a-8cea-268a8cdbeab6",
   "metadata": {},
   "outputs": [
    {
     "name": "stdout",
     "output_type": "stream",
     "text": [
      "['apple', 'banana', 'cherry']\n"
     ]
    }
   ],
   "source": [
    "thislist = [\"apple\", \"banana\", \"cherry\"]\n",
    "mylist = thislist[:]\n",
    "print(mylist)\n"
   ]
  },
  {
   "cell_type": "markdown",
   "id": "d84753b3-a9cc-4a63-8848-f04cda923505",
   "metadata": {},
   "source": [
    "ex48"
   ]
  },
  {
   "cell_type": "code",
   "execution_count": 151,
   "id": "4fc20efd-ef90-4576-8e10-fb8d350aa1a6",
   "metadata": {},
   "outputs": [
    {
     "name": "stdout",
     "output_type": "stream",
     "text": [
      "['a', 'b', 'c', 1, 2, 3]\n"
     ]
    }
   ],
   "source": [
    "list1 = [\"a\", \"b\", \"c\"]\n",
    "list2 = [1, 2, 3]\n",
    "\n",
    "list3 = list1 + list2\n",
    "print(list3)"
   ]
  },
  {
   "cell_type": "markdown",
   "id": "73177520-bcd1-4be9-b13c-87ebc1c7ee22",
   "metadata": {},
   "source": [
    "ex49"
   ]
  },
  {
   "cell_type": "code",
   "execution_count": 154,
   "id": "5efc78f3-1bbf-4f42-a9aa-6d300e326256",
   "metadata": {},
   "outputs": [
    {
     "name": "stdout",
     "output_type": "stream",
     "text": [
      "['a', 'b', 'c', 1, 2, 3]\n"
     ]
    }
   ],
   "source": [
    "list1 = [\"a\", \"b\" , \"c\"]\n",
    "list2 = [1, 2, 3]\n",
    "\n",
    "for x in list2:\n",
    "  list1.append(x)\n",
    "\n",
    "print(list1)\n"
   ]
  },
  {
   "cell_type": "markdown",
   "id": "faee2ff1-58d0-40ff-8ca8-dfccb4b0135b",
   "metadata": {},
   "source": [
    "ex50"
   ]
  },
  {
   "cell_type": "code",
   "execution_count": 157,
   "id": "ad015871-878d-461b-bfbb-36c85aecd2ce",
   "metadata": {},
   "outputs": [
    {
     "name": "stdout",
     "output_type": "stream",
     "text": [
      "['a', 'b', 'c', 1, 2, 3]\n"
     ]
    }
   ],
   "source": [
    "list1 = [\"a\", \"b\" , \"c\"]\n",
    "list2 = [1, 2, 3]\n",
    "\n",
    "list1.extend(list2)\n",
    "print(list1)\n"
   ]
  },
  {
   "cell_type": "markdown",
   "id": "77e46df3-c192-4976-a107-ec3ae26b100c",
   "metadata": {},
   "source": [
    "ex51"
   ]
  },
  {
   "cell_type": "code",
   "execution_count": 162,
   "id": "dd73be0b-02f9-497a-8adc-26545f190f79",
   "metadata": {},
   "outputs": [
    {
     "name": "stdout",
     "output_type": "stream",
     "text": [
      "2\n"
     ]
    }
   ],
   "source": [
    "fruits = ['apple', 'banana', 'cherry']\n",
    "\n",
    "x = fruits.index(\"cherry\")\n",
    "print(x)"
   ]
  },
  {
   "cell_type": "markdown",
   "id": "035f97fe-80f9-4f26-996c-4d225e7ccaa2",
   "metadata": {},
   "source": [
    "ex52"
   ]
  },
  {
   "cell_type": "code",
   "execution_count": 165,
   "id": "2013e354-b6fe-4ba6-b006-ab85e9aa75a2",
   "metadata": {},
   "outputs": [
    {
     "name": "stdout",
     "output_type": "stream",
     "text": [
      "('apple', 'banana', 'cherry')\n"
     ]
    }
   ],
   "source": [
    "thistuple = (\"apple\", \"banana\", \"cherry\")\n",
    "print(thistuple)\n"
   ]
  },
  {
   "cell_type": "markdown",
   "id": "199604c6-3ba0-477b-9aaa-895576abc00b",
   "metadata": {},
   "source": [
    "ex53"
   ]
  },
  {
   "cell_type": "code",
   "execution_count": 168,
   "id": "401f2f98-f869-4676-8084-f3d23649ffa2",
   "metadata": {},
   "outputs": [
    {
     "name": "stdout",
     "output_type": "stream",
     "text": [
      "3\n"
     ]
    }
   ],
   "source": [
    "thistuple = (\"apple\", \"banana\", \"cherry\")\n",
    "print(len(thistuple))\n",
    "\n"
   ]
  },
  {
   "cell_type": "markdown",
   "id": "928c2225-7f1f-4945-ab0f-06ca1b23327d",
   "metadata": {},
   "source": [
    "ex54"
   ]
  },
  {
   "cell_type": "code",
   "execution_count": 171,
   "id": "5ceb0b96-8b7e-4360-baed-f903d5f4e778",
   "metadata": {},
   "outputs": [
    {
     "name": "stdout",
     "output_type": "stream",
     "text": [
      "<class 'tuple'>\n",
      "<class 'str'>\n"
     ]
    }
   ],
   "source": [
    "thistuple = (\"apple\",)\n",
    "print(type(thistuple))\n",
    "\n",
    "\n",
    "thistuple = (\"apple\")\n",
    "print(type(thistuple))\n"
   ]
  },
  {
   "cell_type": "markdown",
   "id": "32f3bb3a-9661-48fb-ba78-1a65186ae311",
   "metadata": {},
   "source": [
    "ex55"
   ]
  },
  {
   "cell_type": "code",
   "execution_count": 174,
   "id": "d24ed698-35d9-4623-aa53-3c661423d4ae",
   "metadata": {},
   "outputs": [
    {
     "name": "stdout",
     "output_type": "stream",
     "text": [
      "<class 'tuple'>\n"
     ]
    }
   ],
   "source": [
    "mytuple = (\"apple\", \"banana\", \"cherry\")\n",
    "print(type(mytuple))\n"
   ]
  },
  {
   "cell_type": "markdown",
   "id": "cec223c8-5e45-4f80-9149-bf991206c4a2",
   "metadata": {},
   "source": [
    "ex56"
   ]
  },
  {
   "cell_type": "code",
   "execution_count": 178,
   "id": "65a2ee9a-c7b8-4f65-957e-fe14d7584c4f",
   "metadata": {},
   "outputs": [
    {
     "name": "stdout",
     "output_type": "stream",
     "text": [
      "banana\n"
     ]
    }
   ],
   "source": [
    "thistuple = (\"apple\", \"banana\", \"cherry\")\n",
    "print(thistuple[1])"
   ]
  },
  {
   "cell_type": "markdown",
   "id": "6a563b19-a8b5-444d-82c1-e2ad01ea6105",
   "metadata": {},
   "source": [
    "ex57"
   ]
  },
  {
   "cell_type": "code",
   "execution_count": 181,
   "id": "4fe3832c-6f15-4da7-b79f-9b3db2f74030",
   "metadata": {},
   "outputs": [
    {
     "name": "stdout",
     "output_type": "stream",
     "text": [
      "cherry\n"
     ]
    }
   ],
   "source": [
    "thistuple = (\"apple\", \"banana\", \"cherry\")\n",
    "print(thistuple[-1])"
   ]
  },
  {
   "cell_type": "markdown",
   "id": "66f779eb-8a29-4bfd-b8ac-bb0b37ff3372",
   "metadata": {},
   "source": [
    "ex58"
   ]
  },
  {
   "cell_type": "code",
   "execution_count": 184,
   "id": "6630b5a1-58a4-4a07-a319-0d335b6e458e",
   "metadata": {},
   "outputs": [
    {
     "name": "stdout",
     "output_type": "stream",
     "text": [
      "('apple', 'kiwi', 'cherry')\n"
     ]
    }
   ],
   "source": [
    "x = (\"apple\", \"banana\", \"cherry\")\n",
    "y = list(x)\n",
    "y[1] = \"kiwi\"\n",
    "x = tuple(y)\n",
    "\n",
    "print(x)\n"
   ]
  },
  {
   "cell_type": "markdown",
   "id": "86c93d8a-7a18-4991-bb7a-8083151bcc45",
   "metadata": {},
   "source": [
    "ex59"
   ]
  },
  {
   "cell_type": "code",
   "execution_count": 187,
   "id": "57ebb728-6476-4ac0-a235-a5b36e0023b4",
   "metadata": {},
   "outputs": [
    {
     "name": "stdout",
     "output_type": "stream",
     "text": [
      "('apple', 'banana', 'cherry', 'orange')\n"
     ]
    }
   ],
   "source": [
    "thistuple = (\"apple\", \"banana\", \"cherry\")\n",
    "y = list(thistuple)\n",
    "y.append(\"orange\")\n",
    "thistuple = tuple(y)\n",
    "print(thistuple)\n"
   ]
  },
  {
   "cell_type": "markdown",
   "id": "d5a25f4e-cdc2-4c46-88e0-50771cc1df89",
   "metadata": {},
   "source": [
    "ex60"
   ]
  },
  {
   "cell_type": "code",
   "execution_count": 190,
   "id": "c8cb18e3-0b9b-42df-982a-f721110ae8b2",
   "metadata": {},
   "outputs": [
    {
     "name": "stdout",
     "output_type": "stream",
     "text": [
      "('apple', 'banana', 'cherry', 'orange')\n"
     ]
    }
   ],
   "source": [
    "thistuple = (\"apple\", \"banana\", \"cherry\")\n",
    "y = (\"orange\",)\n",
    "thistuple += y\n",
    "\n",
    "print(thistuple)\n"
   ]
  },
  {
   "cell_type": "markdown",
   "id": "fee0a87d-8bef-42b8-995d-779b103763b9",
   "metadata": {},
   "source": [
    "ex61"
   ]
  },
  {
   "cell_type": "code",
   "execution_count": 193,
   "id": "b56f0b53-f5d0-4474-a717-d461fb038216",
   "metadata": {},
   "outputs": [
    {
     "name": "stdout",
     "output_type": "stream",
     "text": [
      "apple\n",
      "banana\n",
      "cherry\n"
     ]
    }
   ],
   "source": [
    "fruits = (\"apple\", \"banana\", \"cherry\")\n",
    "\n",
    "(green, yellow, red) = fruits\n",
    "\n",
    "print(green)\n",
    "print(yellow)\n",
    "print(red)\n",
    "\n"
   ]
  },
  {
   "cell_type": "markdown",
   "id": "744c6c02-fbc1-4b0b-b64d-3a262712a2b9",
   "metadata": {},
   "source": [
    "ex62"
   ]
  },
  {
   "cell_type": "code",
   "execution_count": 196,
   "id": "91f33518-ffc2-4970-8ebc-edbe6392f561",
   "metadata": {},
   "outputs": [
    {
     "name": "stdout",
     "output_type": "stream",
     "text": [
      "apple\n",
      "banana\n",
      "cherry\n"
     ]
    }
   ],
   "source": [
    "thistuple = (\"apple\", \"banana\", \"cherry\")\n",
    "for x in thistuple:\n",
    "  print(x)\n",
    "    "
   ]
  },
  {
   "cell_type": "markdown",
   "id": "793dbb3e-ccdc-465e-881d-d319727e4773",
   "metadata": {},
   "source": [
    "ex63"
   ]
  },
  {
   "cell_type": "code",
   "execution_count": 201,
   "id": "3c24afd9-0533-4589-9efb-6e03124de04f",
   "metadata": {},
   "outputs": [
    {
     "name": "stdout",
     "output_type": "stream",
     "text": [
      "apple\n",
      "banana\n",
      "cherry\n"
     ]
    }
   ],
   "source": [
    "\n",
    "thistuple = (\"apple\", \"banana\", \"cherry\")\n",
    "for i in range(len(thistuple)):\n",
    "  print(thistuple[i])"
   ]
  },
  {
   "cell_type": "markdown",
   "id": "c85142c9-849c-485d-84dd-9e85b0e3660a",
   "metadata": {},
   "source": [
    "ex64"
   ]
  },
  {
   "cell_type": "code",
   "execution_count": 204,
   "id": "b4b5b47a-1d21-4676-adf9-ddfbaca2d62e",
   "metadata": {},
   "outputs": [
    {
     "name": "stdout",
     "output_type": "stream",
     "text": [
      "('a', 'b', 'c', 1, 2, 3)\n"
     ]
    }
   ],
   "source": [
    "tuple1 = (\"a\", \"b\" , \"c\")\n",
    "tuple2 = (1, 2, 3)\n",
    "\n",
    "tuple3 = tuple1 + tuple2\n",
    "print(tuple3)\n"
   ]
  },
  {
   "cell_type": "markdown",
   "id": "d3327468-77e0-4021-8d0d-a47f179a785f",
   "metadata": {},
   "source": [
    "ex65"
   ]
  },
  {
   "cell_type": "code",
   "execution_count": 207,
   "id": "02975419-3432-432b-a5e5-7bb9b9d58176",
   "metadata": {},
   "outputs": [
    {
     "name": "stdout",
     "output_type": "stream",
     "text": [
      "2\n"
     ]
    }
   ],
   "source": [
    "thistuple = (1, 3, 7, 8, 7, 5, 4, 6, 8, 5)\n",
    "\n",
    "x = thistuple.count(5)\n",
    "\n",
    "print(x)\n"
   ]
  },
  {
   "cell_type": "markdown",
   "id": "1ddcd9c9-074e-4242-a43b-ca1c1a67c283",
   "metadata": {},
   "source": [
    "ex66"
   ]
  },
  {
   "cell_type": "code",
   "execution_count": 210,
   "id": "1dc6266f-8d9f-420b-96f6-bf953b981c40",
   "metadata": {},
   "outputs": [
    {
     "name": "stdout",
     "output_type": "stream",
     "text": [
      "{'banana', 'cherry', 'apple'}\n"
     ]
    }
   ],
   "source": [
    "thisset = {\"apple\", \"banana\", \"cherry\", \"apple\"}\n",
    "\n",
    "print(thisset)\n"
   ]
  },
  {
   "cell_type": "markdown",
   "id": "c71b5aa7-baaa-4faf-a511-e0535d6b2431",
   "metadata": {},
   "source": [
    "ex67"
   ]
  },
  {
   "cell_type": "code",
   "execution_count": 213,
   "id": "2536945e-c26a-47f0-9dcc-a2a23a2c5127",
   "metadata": {},
   "outputs": [
    {
     "name": "stdout",
     "output_type": "stream",
     "text": [
      "{'banana', 2, True, 'apple', 'cherry'}\n"
     ]
    }
   ],
   "source": [
    "thisset = {\"apple\", \"banana\", \"cherry\", True, 1, 2}\n",
    "\n",
    "print(thisset)"
   ]
  },
  {
   "cell_type": "markdown",
   "id": "2ecdaae0-fb6a-47ff-af56-5eaab0a35f2b",
   "metadata": {},
   "source": [
    "ex68"
   ]
  },
  {
   "cell_type": "code",
   "execution_count": 216,
   "id": "e53adc67-e3fe-42ec-8340-567f6477ac95",
   "metadata": {},
   "outputs": [
    {
     "name": "stdout",
     "output_type": "stream",
     "text": [
      "banana\n",
      "cherry\n",
      "apple\n"
     ]
    }
   ],
   "source": [
    "thisset = {\"apple\", \"banana\", \"cherry\"}\n",
    "\n",
    "for x in thisset:\n",
    "  print(x)"
   ]
  },
  {
   "cell_type": "markdown",
   "id": "eaaf61d6-90ca-4059-90eb-764f3bc7f1c6",
   "metadata": {},
   "source": [
    "ex69"
   ]
  },
  {
   "cell_type": "code",
   "execution_count": 219,
   "id": "3b1c4e57-4564-4af3-aef3-ba880a52556e",
   "metadata": {},
   "outputs": [
    {
     "name": "stdout",
     "output_type": "stream",
     "text": [
      "{'banana', 'apple', 'orange', 'kiwi', 'cherry'}\n"
     ]
    }
   ],
   "source": [
    "thisset = {\"apple\", \"banana\", \"cherry\"}\n",
    "mylist = [\"kiwi\", \"orange\"]\n",
    "\n",
    "thisset.update(mylist)\n",
    "\n",
    "print(thisset)\n"
   ]
  },
  {
   "cell_type": "markdown",
   "id": "fbd3bdff-8600-4b4e-8c5f-2691f32f6d3a",
   "metadata": {},
   "source": [
    "ex70"
   ]
  },
  {
   "cell_type": "code",
   "execution_count": 222,
   "id": "6517ae08-bca4-44ea-a2cd-99f8e24bd1cc",
   "metadata": {},
   "outputs": [
    {
     "name": "stdout",
     "output_type": "stream",
     "text": [
      "banana\n",
      "{'cherry', 'apple'}\n"
     ]
    }
   ],
   "source": [
    "thisset = {\"apple\", \"banana\", \"cherry\"}\n",
    "\n",
    "x = thisset.pop()\n",
    "\n",
    "print(x)\n",
    "\n",
    "print(thisset)\n"
   ]
  },
  {
   "cell_type": "markdown",
   "id": "fd614301-e955-4691-90e4-0622fe947e1a",
   "metadata": {},
   "source": [
    "ex71"
   ]
  },
  {
   "cell_type": "code",
   "execution_count": 225,
   "id": "348f6c21-efd3-4130-a1ef-4df7fe6a07c0",
   "metadata": {},
   "outputs": [
    {
     "name": "stdout",
     "output_type": "stream",
     "text": [
      "banana\n",
      "cherry\n",
      "apple\n"
     ]
    }
   ],
   "source": [
    "thisset = {\"apple\", \"banana\", \"cherry\"}\n",
    "\n",
    "for x in thisset:\n",
    "  print(x)\n"
   ]
  },
  {
   "cell_type": "markdown",
   "id": "cdc2a36f-a077-4b45-91b2-72fd99d634b2",
   "metadata": {},
   "source": [
    "ex72"
   ]
  },
  {
   "cell_type": "code",
   "execution_count": 228,
   "id": "d0cd53fb-58be-41a9-8fd3-fed0207f724d",
   "metadata": {},
   "outputs": [
    {
     "name": "stdout",
     "output_type": "stream",
     "text": [
      "{'brand': 'Ford', 'model': 'Mustang', 'year': 1964}\n"
     ]
    }
   ],
   "source": [
    "thisdict = {\n",
    "  \"brand\": \"Ford\",\n",
    "  \"model\": \"Mustang\",\n",
    "  \"year\": 1964\n",
    "}\n",
    "print(thisdict)\n"
   ]
  },
  {
   "cell_type": "markdown",
   "id": "e24b30ff-2b8b-4608-814f-f0cd68548400",
   "metadata": {},
   "source": [
    "ex73"
   ]
  },
  {
   "cell_type": "code",
   "execution_count": 231,
   "id": "f7def7d6-da65-4e29-8b3e-aabd0c373709",
   "metadata": {},
   "outputs": [
    {
     "name": "stdout",
     "output_type": "stream",
     "text": [
      "{'brand': 'Ford', 'model': 'Mustang', 'year': 2020}\n"
     ]
    }
   ],
   "source": [
    "thisdict = {\n",
    "  \"brand\": \"Ford\",\n",
    "  \"model\": \"Mustang\",\n",
    "  \"year\": 1964,\n",
    "  \"year\": 2020\n",
    "}\n",
    "print(thisdict)\n"
   ]
  },
  {
   "cell_type": "markdown",
   "id": "82c336e1-f985-45fa-a8dd-3cc02cf3e464",
   "metadata": {},
   "source": [
    "ex74"
   ]
  },
  {
   "cell_type": "code",
   "execution_count": 234,
   "id": "53233bc2-0329-4c56-aa56-e9f89eb8c210",
   "metadata": {},
   "outputs": [
    {
     "name": "stdout",
     "output_type": "stream",
     "text": [
      "dict_keys(['brand', 'model', 'year'])\n",
      "dict_keys(['brand', 'model', 'year', 'color'])\n"
     ]
    }
   ],
   "source": [
    "thisdict = {\n",
    "  \"brand\": \"Ford\",\n",
    "  \"model\": \"Mustang\",\n",
    "  \"year\": 1964\n",
    "}\n",
    "x = thisdict[\"model\"]\n",
    "car = {\n",
    "\"brand\": \"Ford\",\n",
    "\"model\": \"Mustang\",\n",
    "\"year\": 1964\n",
    "}\n",
    "\n",
    "a = car.keys()\n",
    "\n",
    "print(a)\n",
    "\n",
    "car[\"color\"] = \"white\"\n",
    "\n",
    "print(a) \n"
   ]
  },
  {
   "cell_type": "markdown",
   "id": "1f177684-4eec-4a17-8ec0-e067bae78cc3",
   "metadata": {},
   "source": [
    "ex73"
   ]
  },
  {
   "cell_type": "code",
   "execution_count": 241,
   "id": "be61694c-cb4f-477f-9e7f-efc292a316e3",
   "metadata": {},
   "outputs": [
    {
     "name": "stdout",
     "output_type": "stream",
     "text": [
      "{'brand': 'Ford', 'model': 'Mustang', 'year': 2018}\n"
     ]
    }
   ],
   "source": [
    "thisdict = {\n",
    "  \"brand\": \"Ford\",\n",
    "  \"model\": \"Mustang\",\n",
    "  \"year\": 1964\n",
    "}\n",
    "thisdict[\"year\"] = 2018\n",
    "print(thisdict)\n"
   ]
  },
  {
   "cell_type": "markdown",
   "id": "d088ce8c-8df2-4952-a74a-0624d68ae18c",
   "metadata": {},
   "source": [
    "ex74"
   ]
  },
  {
   "cell_type": "code",
   "execution_count": 250,
   "id": "c1e407d7-0be9-4317-bf2c-dd8f82d7f1a6",
   "metadata": {},
   "outputs": [
    {
     "name": "stdout",
     "output_type": "stream",
     "text": [
      "{'brand': 'Ford', 'model': 'Mustang', 'year': 1964, 'color': 'red'}\n"
     ]
    }
   ],
   "source": [
    "thisdict = {\n",
    "  \"brand\": \"Ford\",\n",
    "  \"model\": \"Mustang\",\n",
    "  \"year\": 1964\n",
    "}\n",
    "thisdict.update({\"color\": \"red\"})\n",
    "print(thisdict)\n"
   ]
  },
  {
   "cell_type": "markdown",
   "id": "8deaccc0-47f6-4825-9375-b25e4c5de454",
   "metadata": {},
   "source": [
    "ex75"
   ]
  },
  {
   "cell_type": "code",
   "execution_count": 253,
   "id": "a61b0d77-2e2b-4b51-9c6e-93a3371f749c",
   "metadata": {},
   "outputs": [
    {
     "name": "stdout",
     "output_type": "stream",
     "text": [
      "Ford\n",
      "Mustang\n",
      "1964\n",
      "red\n"
     ]
    }
   ],
   "source": [
    "for x in thisdict.values():\n",
    "  print(x)\n"
   ]
  },
  {
   "cell_type": "markdown",
   "id": "46728d24-46fc-411c-9864-6a655e218fc7",
   "metadata": {},
   "source": [
    "ex76"
   ]
  },
  {
   "cell_type": "code",
   "execution_count": 256,
   "id": "4fe1e136-9166-4daa-abaf-2003e72379bc",
   "metadata": {},
   "outputs": [
    {
     "name": "stdout",
     "output_type": "stream",
     "text": [
      "{'brand': 'Ford', 'model': 'Mustang', 'year': 1964}\n"
     ]
    }
   ],
   "source": [
    "thisdict = {\n",
    "  \"brand\": \"Ford\",\n",
    "  \"model\": \"Mustang\",\n",
    "  \"year\": 1964\n",
    "}\n",
    "mydict = dict(thisdict)\n",
    "print(mydict)\n"
   ]
  },
  {
   "cell_type": "code",
   "execution_count": 260,
   "id": "b7d5b6e0-c358-41e6-8074-8b60ccf415ab",
   "metadata": {},
   "outputs": [
    {
     "name": "stdout",
     "output_type": "stream",
     "text": [
      "Tobias\n"
     ]
    }
   ],
   "source": [
    "myfamily = {\n",
    "  \"child1\" : {\n",
    "    \"name\" : \"Emil\",\n",
    "    \"year\" : 2004\n",
    "  },\n",
    "  \"child2\" : {\n",
    "    \"name\" : \"Tobias\",\n",
    "    \"year\" : 2007\n",
    "  },\n",
    "  \"child3\" : {\n",
    "    \"name\" : \"Linus\",\n",
    "    \"year\" : 2011\n",
    "  }\n",
    "}\n",
    "print(myfamily[\"child2\"][\"name\"])"
   ]
  },
  {
   "cell_type": "code",
   "execution_count": 262,
   "id": "982f93fc-afff-4c30-9be3-6bffd5eb8391",
   "metadata": {},
   "outputs": [
    {
     "name": "stdout",
     "output_type": "stream",
     "text": [
      "child1\n",
      "name: Emil\n",
      "year: 2004\n",
      "child2\n",
      "name: Tobias\n",
      "year: 2007\n",
      "child3\n",
      "name: Linus\n",
      "year: 2011\n"
     ]
    }
   ],
   "source": [
    "for x, obj in myfamily.items():\n",
    "  print(x)\n",
    "\n",
    "  for y in obj:\n",
    "    print(y + ':', obj[y])\n"
   ]
  },
  {
   "cell_type": "code",
   "execution_count": 264,
   "id": "298b3d43-49f6-42d3-9be6-bdaef96233f6",
   "metadata": {},
   "outputs": [
    {
     "name": "stdout",
     "output_type": "stream",
     "text": [
      "dict_keys(['brand', 'model', 'year'])\n"
     ]
    }
   ],
   "source": [
    "car = {\n",
    "  \"brand\": \"Ford\",\n",
    "  \"model\": \"Mustang\",\n",
    "  \"year\": 1964\n",
    "}\n",
    "\n",
    "x = car.keys()\n",
    "\n",
    "print(x)\n"
   ]
  },
  {
   "cell_type": "markdown",
   "id": "d9487e65-141a-4e52-8668-a9c3a37664f5",
   "metadata": {},
   "source": [
    "ex80"
   ]
  },
  {
   "cell_type": "code",
   "execution_count": 267,
   "id": "b8cba5f8-c296-4021-b690-08126d3e3093",
   "metadata": {},
   "outputs": [
    {
     "name": "stdout",
     "output_type": "stream",
     "text": [
      "a is greater than b\n"
     ]
    }
   ],
   "source": [
    "\n",
    "a = 200\n",
    "b = 33\n",
    "if b > a:\n",
    "  print(\"b is greater than a\")\n",
    "elif a == b:\n",
    "  print(\"a and b are equal\")\n",
    "else:\n",
    "  print(\"a is greater than b\")\n"
   ]
  },
  {
   "cell_type": "code",
   "execution_count": 269,
   "id": "cc177dbf-d18c-44df-a1f6-2e1ac50b6e6d",
   "metadata": {},
   "outputs": [
    {
     "name": "stdout",
     "output_type": "stream",
     "text": [
      "a is greater than b\n"
     ]
    }
   ],
   "source": [
    "if a > b: print(\"a is greater than b\")"
   ]
  },
  {
   "cell_type": "code",
   "execution_count": 271,
   "id": "bd58cf32-f172-4b08-bde2-af2c2eeb23a2",
   "metadata": {},
   "outputs": [
    {
     "name": "stdout",
     "output_type": "stream",
     "text": [
      "=\n"
     ]
    }
   ],
   "source": [
    "a = 330\n",
    "b = 330\n",
    "print(\"A\") if a > b else print(\"=\") if a == b else print(\"B\")\n"
   ]
  },
  {
   "cell_type": "code",
   "execution_count": 273,
   "id": "e11be985-f755-4885-8adf-785b96ec8e59",
   "metadata": {},
   "outputs": [
    {
     "name": "stdout",
     "output_type": "stream",
     "text": [
      "At least one of the conditions is True\n"
     ]
    }
   ],
   "source": [
    "a = 200\n",
    "b = 33\n",
    "c = 500\n",
    "if a > b or a > c:\n",
    "  print(\"At least one of the conditions is True\")"
   ]
  },
  {
   "cell_type": "code",
   "execution_count": 275,
   "id": "e5be70e0-006d-49dc-a4c8-26a241cbba1e",
   "metadata": {},
   "outputs": [
    {
     "name": "stdout",
     "output_type": "stream",
     "text": [
      "Above ten,\n",
      "and also above 20!\n"
     ]
    }
   ],
   "source": [
    "x = 41\n",
    "\n",
    "if x > 10:\n",
    "  print(\"Above ten,\")\n",
    "  if x > 20:\n",
    "    print(\"and also above 20!\")\n",
    "  else:\n",
    "    print(\"but not above 20.\")"
   ]
  },
  {
   "cell_type": "code",
   "execution_count": 277,
   "id": "547e0d02-b2f3-47db-a335-6442d964fdb9",
   "metadata": {},
   "outputs": [],
   "source": [
    "a = 33\n",
    "b = 200\n",
    "\n",
    "if b > a:\n",
    "  pass\n"
   ]
  },
  {
   "cell_type": "code",
   "execution_count": 279,
   "id": "ed47670a-56b1-4fb5-81a2-da32c3b6f2f3",
   "metadata": {},
   "outputs": [
    {
     "name": "stdout",
     "output_type": "stream",
     "text": [
      "1\n",
      "2\n",
      "4\n",
      "5\n",
      "6\n"
     ]
    }
   ],
   "source": [
    "i = 0\n",
    "while i < 6:\n",
    "  i += 1\n",
    "  if i == 3:\n",
    "    continue\n",
    "  print(i)\n"
   ]
  },
  {
   "cell_type": "code",
   "execution_count": null,
   "id": "a0d2e2d5-8ea3-485b-bc8c-f0835c885db7",
   "metadata": {},
   "outputs": [],
   "source": []
  }
 ],
 "metadata": {
  "kernelspec": {
   "display_name": "Python [conda env:base] *",
   "language": "python",
   "name": "conda-base-py"
  },
  "language_info": {
   "codemirror_mode": {
    "name": "ipython",
    "version": 3
   },
   "file_extension": ".py",
   "mimetype": "text/x-python",
   "name": "python",
   "nbconvert_exporter": "python",
   "pygments_lexer": "ipython3",
   "version": "3.12.7"
  }
 },
 "nbformat": 4,
 "nbformat_minor": 5
}
