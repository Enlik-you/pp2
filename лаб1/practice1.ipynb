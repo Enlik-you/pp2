{
 "cells": [
  {
   "cell_type": "markdown",
   "id": "48ec7448-d6ff-4331-a8a4-a139928ead71",
   "metadata": {},
   "source": [
    "example1\n"
   ]
  },
  {
   "cell_type": "code",
   "execution_count": 2,
   "id": "9ab3768e-e9b4-4358-8dec-6a63fee96764",
   "metadata": {},
   "outputs": [
    {
     "name": "stdout",
     "output_type": "stream",
     "text": [
      "Hello, World!\n"
     ]
    }
   ],
   "source": [
    "print(\"Hello, World!\")\n"
   ]
  },
  {
   "cell_type": "markdown",
   "id": "3359f606-325d-4406-be2d-27e37e395c5c",
   "metadata": {},
   "source": [
    "example2"
   ]
  },
  {
   "cell_type": "code",
   "execution_count": 6,
   "id": "43b2e607-6be2-4769-83a9-366e3bd4c5a3",
   "metadata": {},
   "outputs": [
    {
     "name": "stdout",
     "output_type": "stream",
     "text": [
      "Five is greater than two!\n"
     ]
    }
   ],
   "source": [
    "if 5 > 2:\n",
    "  print(\"Five is greater than two!\")"
   ]
  },
  {
   "cell_type": "markdown",
   "id": "5bec6fba-02cb-48d5-a622-9092eb7bbeeb",
   "metadata": {},
   "source": [
    "example3"
   ]
  },
  {
   "cell_type": "code",
   "execution_count": 9,
   "id": "c786c4f3-1282-4e7f-ad78-c3e52dd7a1ef",
   "metadata": {},
   "outputs": [
    {
     "name": "stdout",
     "output_type": "stream",
     "text": [
      "Five is greater than two!\n",
      "Five is greater than two!\n"
     ]
    }
   ],
   "source": [
    "if 5 > 2:\n",
    " print(\"Five is greater than two!\") \n",
    "if 5 > 2:\n",
    "        print(\"Five is greater than two!\") "
   ]
  },
  {
   "cell_type": "markdown",
   "id": "1cb3afd6-eca8-44b7-bcae-651a21ef4fe2",
   "metadata": {},
   "source": [
    "example4"
   ]
  },
  {
   "cell_type": "code",
   "execution_count": 14,
   "id": "5ef80a14-247c-4536-a2d9-6cfc5828b835",
   "metadata": {},
   "outputs": [
    {
     "name": "stdout",
     "output_type": "stream",
     "text": [
      "5 Hello, World!\n"
     ]
    }
   ],
   "source": [
    "x = 5\n",
    "y = \"Hello, World!\"\n",
    "print(x,y)\n"
   ]
  },
  {
   "cell_type": "markdown",
   "id": "cdce6a35-a864-42b1-be46-ea6ce1ec8902",
   "metadata": {},
   "source": [
    "example5"
   ]
  },
  {
   "cell_type": "code",
   "execution_count": 17,
   "id": "5ce92cb2-14ec-4145-8ef8-01d61d8bfc95",
   "metadata": {},
   "outputs": [
    {
     "name": "stdout",
     "output_type": "stream",
     "text": [
      "Hello, World!\n"
     ]
    }
   ],
   "source": [
    "#This is a comment.\n",
    "print(\"Hello, World!\")"
   ]
  },
  {
   "cell_type": "markdown",
   "id": "1db57f28-48f7-4b3c-8a0a-002f2f7f5eff",
   "metadata": {},
   "source": [
    "example6"
   ]
  },
  {
   "cell_type": "code",
   "execution_count": 20,
   "id": "0db13a6d-d4bb-4c99-81da-2f337fccd4a2",
   "metadata": {},
   "outputs": [
    {
     "name": "stdout",
     "output_type": "stream",
     "text": [
      "YES\n"
     ]
    }
   ],
   "source": [
    "if 5 > 2:\n",
    "   print(\"YES\")\n"
   ]
  },
  {
   "cell_type": "markdown",
   "id": "702d85a6-dcd3-4ca6-b936-cd9cdd63baf3",
   "metadata": {},
   "source": [
    "example7"
   ]
  },
  {
   "cell_type": "code",
   "execution_count": 23,
   "id": "6b647d11-1786-4451-a10f-71f2e57a79f8",
   "metadata": {},
   "outputs": [
    {
     "name": "stdout",
     "output_type": "stream",
     "text": [
      "Hello, World!\n"
     ]
    }
   ],
   "source": [
    "print(\"Hello, World!\") #This is a comment\n"
   ]
  },
  {
   "cell_type": "markdown",
   "id": "d98fff6d-1be4-472f-93de-66570f1fe4a0",
   "metadata": {},
   "source": [
    "example8\n"
   ]
  },
  {
   "cell_type": "code",
   "execution_count": 26,
   "id": "e250cfab-7a07-4cad-afc6-84ca7b43efc3",
   "metadata": {},
   "outputs": [
    {
     "name": "stdout",
     "output_type": "stream",
     "text": [
      "Cheers, Mate!\n"
     ]
    }
   ],
   "source": [
    "#print(\"Hello, World!\")\n",
    "print(\"Cheers, Mate!\")"
   ]
  },
  {
   "cell_type": "markdown",
   "id": "d8ca319b-c870-4c67-98c7-801f73330083",
   "metadata": {},
   "source": [
    "example9"
   ]
  },
  {
   "cell_type": "code",
   "execution_count": 29,
   "id": "cc520e38-e60a-4626-b4ed-27af13ae71bd",
   "metadata": {},
   "outputs": [
    {
     "name": "stdout",
     "output_type": "stream",
     "text": [
      "Hello, World!\n"
     ]
    }
   ],
   "source": [
    "#This is a comment\n",
    "#written in\n",
    "#more than just one line\n",
    "print(\"Hello, World!\")"
   ]
  },
  {
   "cell_type": "markdown",
   "id": "a75ba368-45cb-420e-b312-3ca984120ee4",
   "metadata": {},
   "source": [
    "example10"
   ]
  },
  {
   "cell_type": "code",
   "execution_count": 61,
   "id": "b4269e66-74da-4c97-a4e1-b5f30df913b1",
   "metadata": {},
   "outputs": [
    {
     "name": "stdout",
     "output_type": "stream",
     "text": [
      "Hello, World!\n"
     ]
    }
   ],
   "source": [
    "\"\"\"\n",
    "This is a comment\n",
    "written in\n",
    "more than just one line\n",
    "exactly 4lines\n",
    "\"\"\"\n",
    "print(\"Hello, World!\")\n"
   ]
  },
  {
   "cell_type": "markdown",
   "id": "e3bdd5d2-d657-465a-9905-182e9f18b19c",
   "metadata": {},
   "source": [
    "example11"
   ]
  },
  {
   "cell_type": "code",
   "execution_count": 35,
   "id": "a831a7a7-d52a-4cb4-a830-3f2a55fbe210",
   "metadata": {},
   "outputs": [],
   "source": [
    "#This is a comment"
   ]
  },
  {
   "cell_type": "markdown",
   "id": "a0e2b758-03dc-43d3-9e38-99d1b9b7c79c",
   "metadata": {},
   "source": [
    "example12"
   ]
  },
  {
   "cell_type": "code",
   "execution_count": 38,
   "id": "0bec5f0e-da21-428b-a8e6-64d032b0f7e0",
   "metadata": {},
   "outputs": [
    {
     "name": "stdout",
     "output_type": "stream",
     "text": [
      "5\n",
      "John\n"
     ]
    }
   ],
   "source": [
    "x = 5\n",
    "y = \"John\"\n",
    "print(x)\n",
    "print(y)"
   ]
  },
  {
   "cell_type": "markdown",
   "id": "4a9bf1ee-1400-47ad-bf9c-c6f461a20b3a",
   "metadata": {},
   "source": [
    "example13"
   ]
  },
  {
   "cell_type": "code",
   "execution_count": 41,
   "id": "a12f6152-244f-4f4d-956b-ea2787998698",
   "metadata": {},
   "outputs": [
    {
     "name": "stdout",
     "output_type": "stream",
     "text": [
      "Yenlik\n"
     ]
    }
   ],
   "source": [
    "x = 4       # x is of type int\n",
    "x = \"Yenlik\" # x is now of type str\n",
    "print(x)"
   ]
  },
  {
   "cell_type": "markdown",
   "id": "7a75954e-0ad6-41b5-ad53-d731de3b0b8d",
   "metadata": {},
   "source": [
    "example14"
   ]
  },
  {
   "cell_type": "code",
   "execution_count": 46,
   "id": "9437d717-d080-47c3-9365-a1d1ecbfa13b",
   "metadata": {},
   "outputs": [
    {
     "name": "stdout",
     "output_type": "stream",
     "text": [
      "3\n",
      "3\n",
      "3.0\n"
     ]
    }
   ],
   "source": [
    "x = str(3)    # x will be '3'\n",
    "y = int(3)    # y will be 3\n",
    "z = float(3)  # z will be 3.0\n",
    "print(x)\n",
    "print(y)\n",
    "print(z)"
   ]
  },
  {
   "cell_type": "markdown",
   "id": "06d7dbd0-a7c2-45d2-ac66-cf315eaa1211",
   "metadata": {},
   "source": [
    "example15"
   ]
  },
  {
   "cell_type": "code",
   "execution_count": 55,
   "id": "143e6714-d9a3-4822-a3dc-107f8b5c910a",
   "metadata": {},
   "outputs": [
    {
     "name": "stdout",
     "output_type": "stream",
     "text": [
      "<class 'int'>\n",
      "<class 'str'>\n"
     ]
    }
   ],
   "source": [
    "x = 5\n",
    "y = \"Jop\"\n",
    "print(type(x))\n",
    "print(type(y))\n"
   ]
  },
  {
   "cell_type": "markdown",
   "id": "9f686f69-e93c-48c7-86e5-f71bd6fd9e70",
   "metadata": {},
   "source": [
    "example16"
   ]
  },
  {
   "cell_type": "code",
   "execution_count": 59,
   "id": "ed878f27-cc0f-4825-81ad-170bdc333961",
   "metadata": {},
   "outputs": [],
   "source": [
    "x = \"Jop\"\n",
    "#  same as\n",
    "x = 'Jop'"
   ]
  },
  {
   "cell_type": "markdown",
   "id": "7612e3c4-e172-46a1-8e5e-68953a1533ca",
   "metadata": {},
   "source": [
    "example17"
   ]
  },
  {
   "cell_type": "code",
   "execution_count": 63,
   "id": "deb43975-c3bb-408e-b5f4-af2329209fde",
   "metadata": {},
   "outputs": [
    {
     "name": "stdout",
     "output_type": "stream",
     "text": [
      "4\n",
      "Sally\n"
     ]
    }
   ],
   "source": [
    "a = 4\n",
    "A = \"Sally\"\n",
    "#A will not overwrite a\n",
    "print(a)\n",
    "print(A)"
   ]
  },
  {
   "cell_type": "markdown",
   "id": "a40c5562-17bd-4b5c-a137-47a80efd0207",
   "metadata": {},
   "source": [
    "example18"
   ]
  },
  {
   "cell_type": "code",
   "execution_count": 66,
   "id": "302ca1b2-ccd6-4d0f-91e5-ab52f888baca",
   "metadata": {},
   "outputs": [],
   "source": [
    "myvar = \"James\"\n",
    "my_var = \"James\"\n",
    "_my_var = \"nidi\"\n",
    "myVar = \"Jon\"\n",
    "MYVAR = \"Johan\"\n",
    "myvar2 = \"Jin\"\n"
   ]
  },
  {
   "cell_type": "markdown",
   "id": "a0c4cae8-73b0-47dc-90b4-7a11437126ba",
   "metadata": {},
   "source": [
    "example19"
   ]
  },
  {
   "cell_type": "code",
   "execution_count": 69,
   "id": "2d040261-435c-4eb9-a860-7679f7c4df9b",
   "metadata": {},
   "outputs": [],
   "source": [
    "\n",
    "carname = 'Volvo'\n"
   ]
  },
  {
   "cell_type": "markdown",
   "id": "64c98cb4-2f1d-4fa5-ade3-601cf2774091",
   "metadata": {},
   "source": [
    "example20"
   ]
  },
  {
   "cell_type": "code",
   "execution_count": 72,
   "id": "cb5cbb82-46a1-46f2-a3b5-c43fa0bdda38",
   "metadata": {},
   "outputs": [
    {
     "name": "stdout",
     "output_type": "stream",
     "text": [
      "BMW\n",
      "Mercedes\n",
      "Kia\n"
     ]
    }
   ],
   "source": [
    "x, y, z = \"BMW\", \"Mercedes\", \"Kia\"\n",
    "print(x)\n",
    "print(y)\n",
    "print(z)"
   ]
  },
  {
   "cell_type": "markdown",
   "id": "18a0f6fb-be0f-40e2-91fd-1ec0bd590898",
   "metadata": {},
   "source": [
    "example21"
   ]
  },
  {
   "cell_type": "code",
   "execution_count": 75,
   "id": "262ce837-46b4-4b58-8cfc-2c2d66349716",
   "metadata": {},
   "outputs": [
    {
     "name": "stdout",
     "output_type": "stream",
     "text": [
      "KBTU\n",
      "KBTU\n",
      "KBTU\n"
     ]
    }
   ],
   "source": [
    "x = y = z = \"KBTU\"\n",
    "print(x)\n",
    "print(y)\n",
    "print(z)"
   ]
  },
  {
   "cell_type": "markdown",
   "id": "4a87acb5-9817-48df-ae4c-ba189fa60cad",
   "metadata": {},
   "source": [
    "example22"
   ]
  },
  {
   "cell_type": "code",
   "execution_count": 78,
   "id": "f7544760-0507-4329-ae12-c27bf02f2a1e",
   "metadata": {},
   "outputs": [
    {
     "name": "stdout",
     "output_type": "stream",
     "text": [
      "apple\n",
      "banana\n",
      "cherry\n"
     ]
    }
   ],
   "source": [
    "fruits = [\"apple\", \"banana\", \"cherry\"]\n",
    "x, y, z = fruits\n",
    "print(x)\n",
    "print(y)\n",
    "print(z)"
   ]
  },
  {
   "cell_type": "markdown",
   "id": "265ea249-4453-4657-accc-18016ff1d1cb",
   "metadata": {},
   "source": [
    "example23"
   ]
  },
  {
   "cell_type": "code",
   "execution_count": 81,
   "id": "cb7261ff-4c78-4de3-9a6e-56f583b31f4a",
   "metadata": {},
   "outputs": [
    {
     "name": "stdout",
     "output_type": "stream",
     "text": [
      "PP2 is awesome\n"
     ]
    }
   ],
   "source": [
    "x = \"PP2 is awesome\"\n",
    "print(x)\n"
   ]
  },
  {
   "cell_type": "markdown",
   "id": "14496e71-a9ce-4d8c-bfc0-f304c75f5620",
   "metadata": {},
   "source": [
    "example24"
   ]
  },
  {
   "cell_type": "code",
   "execution_count": 84,
   "id": "5d520a6f-fc36-45b3-b57d-402ac0a4326b",
   "metadata": {},
   "outputs": [
    {
     "name": "stdout",
     "output_type": "stream",
     "text": [
      "Python is awesome\n"
     ]
    }
   ],
   "source": [
    "x = \"Python\"\n",
    "y = \"is\"\n",
    "z = \"awesome\"\n",
    "print(x, y, z)\n"
   ]
  },
  {
   "cell_type": "markdown",
   "id": "43cde358-62fc-463a-b21a-2c7020281041",
   "metadata": {},
   "source": [
    "example25"
   ]
  },
  {
   "cell_type": "code",
   "execution_count": 87,
   "id": "0cb6e635-a5e6-4486-b211-fad4d06c92b0",
   "metadata": {},
   "outputs": [
    {
     "name": "stdout",
     "output_type": "stream",
     "text": [
      "Python is awesome\n"
     ]
    }
   ],
   "source": [
    "x = \"Python \"\n",
    "y = \"is \"\n",
    "z = \"awesome\"\n",
    "print(x + y + z)\n"
   ]
  },
  {
   "cell_type": "markdown",
   "id": "f618eba9-9e62-4063-9d3c-bb9ae93a8598",
   "metadata": {},
   "source": [
    "example26"
   ]
  },
  {
   "cell_type": "code",
   "execution_count": 90,
   "id": "f50d71c0-8891-4a3b-81d4-8dcb7f9c14ed",
   "metadata": {},
   "outputs": [
    {
     "name": "stdout",
     "output_type": "stream",
     "text": [
      "899\n"
     ]
    }
   ],
   "source": [
    "x = 889\n",
    "y = 10\n",
    "print(x + y)"
   ]
  },
  {
   "cell_type": "markdown",
   "id": "f14451f2-851a-48a9-a0d9-8ac60a6fe07b",
   "metadata": {},
   "source": [
    "example27"
   ]
  },
  {
   "cell_type": "code",
   "execution_count": 93,
   "id": "98415cce-9574-4215-ac2b-383da462bd48",
   "metadata": {},
   "outputs": [
    {
     "name": "stdout",
     "output_type": "stream",
     "text": [
      "5 John\n"
     ]
    }
   ],
   "source": [
    "x = 5\n",
    "y = \"John\"\n",
    "print(x, y)"
   ]
  },
  {
   "cell_type": "markdown",
   "id": "c56bdef5-02e8-402f-ae3a-b1f82de058af",
   "metadata": {},
   "source": [
    "example28"
   ]
  },
  {
   "cell_type": "code",
   "execution_count": 96,
   "id": "1979026d-9dea-4a7a-a706-69848dedd5e4",
   "metadata": {},
   "outputs": [
    {
     "name": "stdout",
     "output_type": "stream",
     "text": [
      "Python is awesome\n"
     ]
    }
   ],
   "source": [
    "x = \"awesome\"\n",
    "\n",
    "def myfunc():\n",
    "  print(\"Python is \" + x)\n",
    "\n",
    "myfunc()"
   ]
  },
  {
   "cell_type": "markdown",
   "id": "5375ea37-646b-4065-b32f-944e0b22632a",
   "metadata": {},
   "source": [
    "example29"
   ]
  },
  {
   "cell_type": "code",
   "execution_count": 99,
   "id": "a5687865-f975-419e-b50b-8445ca6fa1ae",
   "metadata": {},
   "outputs": [
    {
     "name": "stdout",
     "output_type": "stream",
     "text": [
      "Python is great\n",
      "Python is awwwwwww\n"
     ]
    }
   ],
   "source": [
    "x = \"awwwwwww\"\n",
    "\n",
    "def myfunc():\n",
    "  x = \"great\"\n",
    "  print(\"Python is \" + x)\n",
    "\n",
    "myfunc()\n",
    "\n",
    "print(\"Python is \" + x)\n"
   ]
  },
  {
   "cell_type": "markdown",
   "id": "00deaf39-6ad7-4ded-ab63-85f4343eaa95",
   "metadata": {},
   "source": [
    "example30"
   ]
  },
  {
   "cell_type": "code",
   "execution_count": 104,
   "id": "9c5da913-6a3a-4d88-963e-21c8e3c2162a",
   "metadata": {},
   "outputs": [
    {
     "name": "stdout",
     "output_type": "stream",
     "text": [
      "Pp2 is fantastic\n"
     ]
    }
   ],
   "source": [
    "def myfunc():\n",
    "  global x\n",
    "  x = \"fantastic\"\n",
    "\n",
    "myfunc()\n",
    "\n",
    "print(\"Pp2 is \" + x)"
   ]
  },
  {
   "cell_type": "markdown",
   "id": "243f5b51-2096-4a9c-9e83-77c2ea7ff852",
   "metadata": {},
   "source": [
    "example31"
   ]
  },
  {
   "cell_type": "code",
   "execution_count": 107,
   "id": "f0bd6748-cb90-42c9-8eae-cdd9e09447d3",
   "metadata": {},
   "outputs": [
    {
     "name": "stdout",
     "output_type": "stream",
     "text": [
      "Python is great\n"
     ]
    }
   ],
   "source": [
    "x = \"good\"\n",
    "\n",
    "def myfunc():\n",
    "  global x\n",
    "  x = \"great\"\n",
    "\n",
    "myfunc()\n",
    "\n",
    "print(\"Python is \" + x)\n"
   ]
  },
  {
   "cell_type": "markdown",
   "id": "bbd2ebb8-bf36-48ce-a725-1478c0d900ac",
   "metadata": {},
   "source": [
    "example32"
   ]
  },
  {
   "cell_type": "code",
   "execution_count": 110,
   "id": "1c482bd0-5bcf-490b-bcb8-7e803b092f0d",
   "metadata": {},
   "outputs": [
    {
     "name": "stdout",
     "output_type": "stream",
     "text": [
      "<class 'int'>\n"
     ]
    }
   ],
   "source": [
    "x = 5\n",
    "print(type(x))"
   ]
  },
  {
   "cell_type": "markdown",
   "id": "adf0f229-608a-41df-9a5d-f6350e346b84",
   "metadata": {},
   "source": [
    "example33"
   ]
  },
  {
   "cell_type": "code",
   "execution_count": 113,
   "id": "bf5e961a-4d01-4f45-940d-85bcb0f39409",
   "metadata": {},
   "outputs": [
    {
     "name": "stdout",
     "output_type": "stream",
     "text": [
      "Hello World\n",
      "<class 'str'>\n"
     ]
    }
   ],
   "source": [
    "x = \"Hello World\"\n",
    "print(x)\n",
    "print(type(x)) \n"
   ]
  },
  {
   "cell_type": "markdown",
   "id": "78cea4e1-b270-4ce6-afc5-de6e23bcc67c",
   "metadata": {},
   "source": [
    "example34"
   ]
  },
  {
   "cell_type": "code",
   "execution_count": 116,
   "id": "8d78d302-813d-484c-9b32-18ba40942cc0",
   "metadata": {},
   "outputs": [
    {
     "name": "stdout",
     "output_type": "stream",
     "text": [
      "20.5\n",
      "<class 'float'>\n"
     ]
    }
   ],
   "source": [
    "x = 20.5\n",
    "print(x)\n",
    "print(type(x)) \n"
   ]
  },
  {
   "cell_type": "markdown",
   "id": "80e922d2-b5e1-4bff-a3ee-473e204f700a",
   "metadata": {},
   "source": [
    "example35"
   ]
  },
  {
   "cell_type": "code",
   "execution_count": 119,
   "id": "2d3694c6-ca3e-4e1e-b444-cbdd5e5a038d",
   "metadata": {},
   "outputs": [
    {
     "name": "stdout",
     "output_type": "stream",
     "text": [
      "(2+3j)\n",
      "<class 'complex'>\n"
     ]
    }
   ],
   "source": [
    "x = 2+3j\n",
    "\n",
    "#display x:\n",
    "print(x)\n",
    "\n",
    "#display the data type of x:\n",
    "print(type(x)) \n"
   ]
  },
  {
   "cell_type": "code",
   "execution_count": 121,
   "id": "e658ea99-6b48-4909-8858-27943a2ea65e",
   "metadata": {},
   "outputs": [
    {
     "name": "stdout",
     "output_type": "stream",
     "text": [
      "['apple', 'banana', 'cherry']\n",
      "<class 'list'>\n"
     ]
    }
   ],
   "source": [
    "x = [\"apple\", \"banana\", \"cherry\"]\n",
    "print(x)\n",
    "print(type(x)) \n"
   ]
  },
  {
   "cell_type": "markdown",
   "id": "ef0e1c32-a9ba-45a3-a6f7-712ab618a365",
   "metadata": {},
   "source": [
    "example37"
   ]
  },
  {
   "cell_type": "code",
   "execution_count": 124,
   "id": "57b9eb26-a7c0-4fa0-a72c-67f421c79d15",
   "metadata": {},
   "outputs": [
    {
     "name": "stdout",
     "output_type": "stream",
     "text": [
      "('apple', 'banana', 'cherry')\n",
      "<class 'tuple'>\n"
     ]
    }
   ],
   "source": [
    "x = (\"apple\", \"banana\", \"cherry\")\n",
    "print(x)\n",
    "print(type(x)) \n"
   ]
  },
  {
   "cell_type": "markdown",
   "id": "a8892966-d760-424f-a7c6-edc50d149b8f",
   "metadata": {},
   "source": [
    "example38"
   ]
  },
  {
   "cell_type": "code",
   "execution_count": 127,
   "id": "51303b62-bfc9-463f-95f4-89e9b46291b1",
   "metadata": {},
   "outputs": [
    {
     "name": "stdout",
     "output_type": "stream",
     "text": [
      "range(0, 6)\n",
      "<class 'range'>\n"
     ]
    }
   ],
   "source": [
    "x = range(6)\n",
    "print(x)\n",
    "print(type(x)) \n"
   ]
  },
  {
   "cell_type": "markdown",
   "id": "4a1983f9-e14d-4b61-a9a9-b4dd1a22073f",
   "metadata": {},
   "source": [
    "example39"
   ]
  },
  {
   "cell_type": "code",
   "execution_count": 130,
   "id": "e001fcc3-0b89-4408-8fb0-b6e36f278cfa",
   "metadata": {},
   "outputs": [
    {
     "name": "stdout",
     "output_type": "stream",
     "text": [
      "{'name': 'John', 'age': 36}\n",
      "<class 'dict'>\n"
     ]
    }
   ],
   "source": [
    "x = {\"name\" : \"John\", \"age\" : 36}\n",
    "print(x)\n",
    "print(type(x)) \n"
   ]
  },
  {
   "cell_type": "markdown",
   "id": "963c7563-17ae-402b-9d58-0d0a40e712c0",
   "metadata": {},
   "source": [
    "example40"
   ]
  },
  {
   "cell_type": "code",
   "execution_count": 133,
   "id": "692a963e-fb13-4ae6-af46-11f1da9131f2",
   "metadata": {},
   "outputs": [
    {
     "name": "stdout",
     "output_type": "stream",
     "text": [
      "{'cherry', 'banana', 'apple'}\n",
      "<class 'set'>\n"
     ]
    }
   ],
   "source": [
    "x = {\"apple\", \"banana\", \"cherry\"}\n",
    "print(x)\n",
    "print(type(x)) \n"
   ]
  },
  {
   "cell_type": "markdown",
   "id": "12694601-c319-40e9-b0cf-e05ddb24f3d1",
   "metadata": {},
   "source": [
    "example41"
   ]
  },
  {
   "cell_type": "code",
   "execution_count": 136,
   "id": "72761c24-2623-4652-b8a8-dbf77e061bf7",
   "metadata": {},
   "outputs": [
    {
     "name": "stdout",
     "output_type": "stream",
     "text": [
      "frozenset({'cherry', 'banana', 'apple'})\n",
      "<class 'frozenset'>\n"
     ]
    }
   ],
   "source": [
    "x = frozenset({\"apple\", \"banana\", \"cherry\"})\n",
    "print(x)\n",
    "print(type(x)) \n"
   ]
  },
  {
   "cell_type": "markdown",
   "id": "db7cb797-6ae6-458a-966a-de7b6a45101c",
   "metadata": {},
   "source": [
    "example42"
   ]
  },
  {
   "cell_type": "code",
   "execution_count": 139,
   "id": "82e0d293-8677-48e6-8d2a-1889bb263169",
   "metadata": {},
   "outputs": [
    {
     "name": "stdout",
     "output_type": "stream",
     "text": [
      "True\n",
      "<class 'bool'>\n"
     ]
    }
   ],
   "source": [
    "x = True\n",
    "print(x)\n",
    "print(type(x)) "
   ]
  },
  {
   "cell_type": "markdown",
   "id": "b761f548-deea-42bc-aed7-726b146cc925",
   "metadata": {},
   "source": [
    "example43"
   ]
  },
  {
   "cell_type": "code",
   "execution_count": 142,
   "id": "72445500-d98f-4eb8-ab04-6258575e2704",
   "metadata": {},
   "outputs": [
    {
     "name": "stdout",
     "output_type": "stream",
     "text": [
      "b'Hello'\n",
      "<class 'bytes'>\n"
     ]
    }
   ],
   "source": [
    "x = b\"Hello\"\n",
    "print(x)\n",
    "print(type(x)) "
   ]
  },
  {
   "cell_type": "markdown",
   "id": "fceeec99-165e-43b4-9c6f-b1c2170c0a3d",
   "metadata": {},
   "source": [
    "example44"
   ]
  },
  {
   "cell_type": "code",
   "execution_count": 145,
   "id": "faa64c2f-42a1-4cd1-8e2c-3293e5044150",
   "metadata": {},
   "outputs": [
    {
     "name": "stdout",
     "output_type": "stream",
     "text": [
      "bytearray(b'\\x00\\x00\\x00\\x00\\x00')\n",
      "<class 'bytearray'>\n"
     ]
    }
   ],
   "source": [
    "x = bytearray(5)\n",
    "print(x)\n",
    "print(type(x)) \n"
   ]
  },
  {
   "cell_type": "markdown",
   "id": "2f4d1c79-3b5a-4e56-ae42-5f61b8e86e71",
   "metadata": {},
   "source": [
    "example45"
   ]
  },
  {
   "cell_type": "code",
   "execution_count": 148,
   "id": "add0ff1b-833e-4adc-b4fb-05fb5de939af",
   "metadata": {},
   "outputs": [
    {
     "name": "stdout",
     "output_type": "stream",
     "text": [
      "<memory at 0x000001DDA4725840>\n",
      "<class 'memoryview'>\n"
     ]
    }
   ],
   "source": [
    "x = memoryview(bytes(5))\n",
    "print(x)\n",
    "print(type(x)) \n"
   ]
  },
  {
   "cell_type": "markdown",
   "id": "70bc39d2-8658-4ac1-80f8-a38685da5928",
   "metadata": {},
   "source": [
    "example46"
   ]
  },
  {
   "cell_type": "code",
   "execution_count": 151,
   "id": "8fd999f8-5c74-42ed-bcd2-ac1bdda5139a",
   "metadata": {},
   "outputs": [
    {
     "name": "stdout",
     "output_type": "stream",
     "text": [
      "None\n",
      "<class 'NoneType'>\n"
     ]
    }
   ],
   "source": [
    "x = None\n",
    "print(x)\n",
    "print(type(x)) \n"
   ]
  },
  {
   "cell_type": "markdown",
   "id": "4d8a0c26-8a31-48fe-ad98-d6292072d96d",
   "metadata": {},
   "source": [
    "example47"
   ]
  },
  {
   "cell_type": "code",
   "execution_count": 157,
   "id": "e85ada04-5bb4-4d2e-9f3b-b6ecd72a5e47",
   "metadata": {},
   "outputs": [
    {
     "name": "stdout",
     "output_type": "stream",
     "text": [
      "<class 'int'>\n",
      "<class 'float'>\n",
      "<class 'complex'>\n"
     ]
    }
   ],
   "source": [
    "x = 1    # int\n",
    "y = 2.8  # float\n",
    "z = 1j   # complex\n",
    "print(type(x))\n",
    "print(type(y))\n",
    "print(type(z))"
   ]
  },
  {
   "cell_type": "markdown",
   "id": "712a7379-ad3b-473e-a4cb-2cd237c70841",
   "metadata": {},
   "source": [
    "example48"
   ]
  },
  {
   "cell_type": "code",
   "execution_count": 159,
   "id": "412875e5-0d74-4476-85ac-f54f290c73da",
   "metadata": {},
   "outputs": [
    {
     "name": "stdout",
     "output_type": "stream",
     "text": [
      "<class 'int'>\n",
      "<class 'int'>\n",
      "<class 'int'>\n"
     ]
    }
   ],
   "source": [
    "x = 1\n",
    "y = 35656222554887711\n",
    "z = -3255522\n",
    "\n",
    "print(type(x))\n",
    "print(type(y))\n",
    "print(type(z))"
   ]
  },
  {
   "cell_type": "markdown",
   "id": "f4e360f2-aee1-42ea-8a24-3322638255a4",
   "metadata": {},
   "source": [
    "example49"
   ]
  },
  {
   "cell_type": "code",
   "execution_count": 164,
   "id": "426f50b9-cbff-45c8-b66e-fe5121ff8615",
   "metadata": {},
   "outputs": [
    {
     "name": "stdout",
     "output_type": "stream",
     "text": [
      "<class 'float'>\n",
      "<class 'float'>\n",
      "<class 'float'>\n"
     ]
    }
   ],
   "source": [
    "x = 35e3\n",
    "y = 12E4\n",
    "z = -87.7e100\n",
    "\n",
    "print(type(x))\n",
    "print(type(y))\n",
    "print(type(z))\n"
   ]
  },
  {
   "cell_type": "markdown",
   "id": "cd4c2ce5-58a4-4170-9163-103e9316fc90",
   "metadata": {},
   "source": [
    "example50"
   ]
  },
  {
   "cell_type": "code",
   "execution_count": 167,
   "id": "bdffc83a-be89-4168-8a2e-5dba4ad42c56",
   "metadata": {},
   "outputs": [
    {
     "name": "stdout",
     "output_type": "stream",
     "text": [
      "<class 'complex'>\n",
      "<class 'complex'>\n",
      "<class 'complex'>\n"
     ]
    }
   ],
   "source": [
    "x = 3+5j\n",
    "y = 5j\n",
    "z = -5j\n",
    "\n",
    "print(type(x))\n",
    "print(type(y))\n",
    "print(type(z))"
   ]
  },
  {
   "cell_type": "markdown",
   "id": "fdc35b3e-5607-40a9-b98b-f63eb9478ed8",
   "metadata": {},
   "source": [
    "example51"
   ]
  },
  {
   "cell_type": "code",
   "execution_count": 170,
   "id": "1fbcb452-1c12-4712-a66a-dfd1c7707451",
   "metadata": {},
   "outputs": [
    {
     "name": "stdout",
     "output_type": "stream",
     "text": [
      "6\n"
     ]
    }
   ],
   "source": [
    "import random\n",
    "\n",
    "print(random.randrange(1, 10))"
   ]
  },
  {
   "cell_type": "markdown",
   "id": "36dfa412-61e6-4a1b-b843-3a8cfc7a9344",
   "metadata": {},
   "source": [
    "example52"
   ]
  },
  {
   "cell_type": "code",
   "execution_count": 177,
   "id": "793eccce-3fe5-4fef-a640-1a0c87f62848",
   "metadata": {},
   "outputs": [
    {
     "name": "stdout",
     "output_type": "stream",
     "text": [
      "1\n",
      "2\n",
      "3\n"
     ]
    }
   ],
   "source": [
    "x = int(1)   \n",
    "y = int(2.8) \n",
    "z = int(\"3\") \n",
    "print(x)\n",
    "print(y)\n",
    "print(z)"
   ]
  },
  {
   "cell_type": "markdown",
   "id": "83974fd6-2f2b-4a0d-9e2f-35502f3390cc",
   "metadata": {},
   "source": [
    "example53"
   ]
  },
  {
   "cell_type": "code",
   "execution_count": 180,
   "id": "e7c6ec9e-75f1-492c-a0ef-3b7b1839ce3a",
   "metadata": {},
   "outputs": [
    {
     "name": "stdout",
     "output_type": "stream",
     "text": [
      "1.0\n",
      "2.8\n",
      "3.0\n",
      "4.2\n"
     ]
    }
   ],
   "source": [
    "x = float(1)     \n",
    "y = float(2.8)   \n",
    "z = float(\"3\")   \n",
    "w = float(\"4.2\") \n",
    "print(x)\n",
    "print(y)\n",
    "print(z)\n",
    "print(w)"
   ]
  },
  {
   "cell_type": "markdown",
   "id": "1f529a9b-dfc0-4b23-b6f8-ebc50fbcd7fe",
   "metadata": {},
   "source": [
    "example54"
   ]
  },
  {
   "cell_type": "code",
   "execution_count": 183,
   "id": "e5dbf58e-fe7e-4924-a881-8d6dc549a108",
   "metadata": {},
   "outputs": [
    {
     "name": "stdout",
     "output_type": "stream",
     "text": [
      "s1\n",
      "2\n",
      "3.0\n"
     ]
    }
   ],
   "source": [
    "x = str(\"s1\") \n",
    "y = str(2)    \n",
    "z = str(3.0)  \n",
    "print(x)\n",
    "print(y)\n",
    "print(z)"
   ]
  },
  {
   "cell_type": "markdown",
   "id": "c68eafaf-25b5-4877-ae5b-51ecaa7081fa",
   "metadata": {},
   "source": [
    "example55"
   ]
  },
  {
   "cell_type": "code",
   "execution_count": 186,
   "id": "67e3ecbc-2d95-4dcb-a46c-e54984e0ae3e",
   "metadata": {},
   "outputs": [
    {
     "name": "stdout",
     "output_type": "stream",
     "text": [
      "It's alright\n",
      "He is called 'Yenlik'\n",
      "He is called \"Qanat\"\n"
     ]
    }
   ],
   "source": [
    "print(\"It's alright\")\n",
    "print(\"He is called 'Yenlik'\")\n",
    "print('He is called \"Qanat\"')"
   ]
  },
  {
   "cell_type": "markdown",
   "id": "5187b109-9eb7-4d50-91ff-9252a692d5ee",
   "metadata": {},
   "source": [
    "example56"
   ]
  },
  {
   "cell_type": "code",
   "execution_count": 189,
   "id": "b4031343-39b5-456a-9d43-9ef194bd4a33",
   "metadata": {},
   "outputs": [
    {
     "name": "stdout",
     "output_type": "stream",
     "text": [
      "Lorem ipsum dolor sit amet,\n",
      "consectetur adipiscing elit,\n",
      "sed do eiusmod tempor incididunt\n",
      "ut labore et dolore magna aliqua.\n"
     ]
    }
   ],
   "source": [
    "a = \"\"\"Lorem ipsum dolor sit amet,\n",
    "consectetur adipiscing elit,\n",
    "sed do eiusmod tempor incididunt\n",
    "ut labore et dolore magna aliqua.\"\"\"\n",
    "print(a)\n"
   ]
  },
  {
   "cell_type": "markdown",
   "id": "8049d488-21df-42f5-85ab-f1e297370ce7",
   "metadata": {},
   "source": [
    "example57"
   ]
  },
  {
   "cell_type": "code",
   "execution_count": 192,
   "id": "1fb1a60f-8fdb-456c-8108-3c4c93f0b213",
   "metadata": {},
   "outputs": [
    {
     "name": "stdout",
     "output_type": "stream",
     "text": [
      "Lorem ipsum dolor sit amet,\n",
      "consectetur adipiscing elit,\n",
      "sed do eiusmod tempor incididunt\n",
      "ut labore et dolore magna aliqua.\n"
     ]
    }
   ],
   "source": [
    "a = '''Lorem ipsum dolor sit amet,\n",
    "consectetur adipiscing elit,\n",
    "sed do eiusmod tempor incididunt\n",
    "ut labore et dolore magna aliqua.'''\n",
    "print(a)\n"
   ]
  },
  {
   "cell_type": "markdown",
   "id": "9263d7d5-6009-409d-8b56-b2a2e1c39106",
   "metadata": {},
   "source": [
    "example58"
   ]
  },
  {
   "cell_type": "code",
   "execution_count": 195,
   "id": "0889645d-7223-42ea-8903-a16deeac2141",
   "metadata": {},
   "outputs": [
    {
     "name": "stdout",
     "output_type": "stream",
     "text": [
      "e\n"
     ]
    }
   ],
   "source": [
    "a = \"Hello, World!\"\n",
    "print(a[1])\n"
   ]
  },
  {
   "cell_type": "markdown",
   "id": "bf12f8be-a9d6-42c9-a5ff-ad194fd686c8",
   "metadata": {},
   "source": [
    "example59"
   ]
  },
  {
   "cell_type": "code",
   "execution_count": 204,
   "id": "13df66af-f987-4633-830a-0b9367e29445",
   "metadata": {},
   "outputs": [
    {
     "name": "stdout",
     "output_type": "stream",
     "text": [
      "u\n",
      "o\n",
      "p\n"
     ]
    }
   ],
   "source": [
    "for x in \"uop\":\n",
    "  print(x)"
   ]
  },
  {
   "cell_type": "markdown",
   "id": "32b7fd1e-cf3a-4202-a7d8-765048bddb1d",
   "metadata": {},
   "source": [
    "example60"
   ]
  },
  {
   "cell_type": "code",
   "execution_count": 206,
   "id": "3fa92b4a-0cee-42cc-b1fe-c5327e239c8a",
   "metadata": {},
   "outputs": [
    {
     "name": "stdout",
     "output_type": "stream",
     "text": [
      "11\n"
     ]
    }
   ],
   "source": [
    "a = \"pl;./jg56b!\"\n",
    "print(len(a))"
   ]
  },
  {
   "cell_type": "markdown",
   "id": "05b91547-adb8-4f3d-9756-da52dc001d2e",
   "metadata": {},
   "source": [
    "example61"
   ]
  },
  {
   "cell_type": "code",
   "execution_count": 210,
   "id": "7fe0da88-1a45-47c3-a0ab-58beff57aa2d",
   "metadata": {},
   "outputs": [
    {
     "name": "stdout",
     "output_type": "stream",
     "text": [
      "True\n"
     ]
    }
   ],
   "source": [
    "txt = \"The best things in life are free!\"\n",
    "print(\"The\" in txt)"
   ]
  },
  {
   "cell_type": "markdown",
   "id": "7899a608-4c5b-4ca2-8856-63b198409be8",
   "metadata": {},
   "source": [
    "example62"
   ]
  },
  {
   "cell_type": "code",
   "execution_count": 213,
   "id": "20777115-c423-4421-bcba-6943e23d7e04",
   "metadata": {},
   "outputs": [
    {
     "name": "stdout",
     "output_type": "stream",
     "text": [
      "Yes, 'things' is present.\n"
     ]
    }
   ],
   "source": [
    "snts = \"The best things in life are free!\"\n",
    "if \"things\" in snts:\n",
    "  print(\"Yes, 'things' is present.\")"
   ]
  },
  {
   "cell_type": "markdown",
   "id": "33b0e838-f0d2-4acd-8613-321edff6e7e0",
   "metadata": {},
   "source": [
    "example63"
   ]
  },
  {
   "cell_type": "code",
   "execution_count": 216,
   "id": "e28942c4-7836-4041-b157-36311ccac27b",
   "metadata": {},
   "outputs": [
    {
     "name": "stdout",
     "output_type": "stream",
     "text": [
      "False\n"
     ]
    }
   ],
   "source": [
    "txt = \"raw tools expensive\"\n",
    "print(\"expensive\" not in txt)\n"
   ]
  },
  {
   "cell_type": "markdown",
   "id": "7b22beca-2b43-4c84-8fad-71912c0cad20",
   "metadata": {},
   "source": [
    "example64"
   ]
  },
  {
   "cell_type": "code",
   "execution_count": 219,
   "id": "b016fb04-d4b9-4995-b16a-60ec95ec8faf",
   "metadata": {},
   "outputs": [
    {
     "name": "stdout",
     "output_type": "stream",
     "text": [
      "No, 'expensive' is NOT present.\n"
     ]
    }
   ],
   "source": [
    "txt = \"good water costs cheap!\"\n",
    "if \"expensive\" not in txt:\n",
    "  print(\"No, 'expensive' is NOT present.\")\n"
   ]
  },
  {
   "cell_type": "code",
   "execution_count": 221,
   "id": "a49f9cae-aee0-4e4a-806a-c100068b300c",
   "metadata": {},
   "outputs": [
    {
     "name": "stdout",
     "output_type": "stream",
     "text": [
      ", W\n"
     ]
    }
   ],
   "source": [
    "b = \"Hi, World!\"\n",
    "print(b[2:5])\n"
   ]
  },
  {
   "cell_type": "markdown",
   "id": "87db1cf2-725c-4e7a-bf8e-07af06a3a1b6",
   "metadata": {},
   "source": [
    "example66"
   ]
  },
  {
   "cell_type": "code",
   "execution_count": 224,
   "id": "140fab3d-11ee-4652-8907-254cd50ea211",
   "metadata": {},
   "outputs": [
    {
     "name": "stdout",
     "output_type": "stream",
     "text": [
      "llo, World!\n"
     ]
    }
   ],
   "source": [
    "b = \"Hello, World!\"\n",
    "print(b[2:])"
   ]
  },
  {
   "cell_type": "markdown",
   "id": "2a1338b8-8e88-4999-9a99-a661adac1c54",
   "metadata": {},
   "source": [
    "example67"
   ]
  },
  {
   "cell_type": "code",
   "execution_count": 229,
   "id": "6928adb4-6a7a-48f9-92d3-48ef81f2909d",
   "metadata": {},
   "outputs": [
    {
     "name": "stdout",
     "output_type": "stream",
     "text": [
      "cdef\n"
     ]
    }
   ],
   "source": [
    "a=\"abcdefg\"\n",
    "print(a[-5:-1])"
   ]
  },
  {
   "cell_type": "markdown",
   "id": "d0172893-d3e4-402e-97a6-da421d8311cd",
   "metadata": {},
   "source": [
    "example68"
   ]
  },
  {
   "cell_type": "code",
   "execution_count": 232,
   "id": "a8855ff2-c40f-40b2-9b46-b477ebe93045",
   "metadata": {},
   "outputs": [
    {
     "name": "stdout",
     "output_type": "stream",
     "text": [
      "HELLO, WORLD!\n"
     ]
    }
   ],
   "source": [
    "a = \"Hello, World!\"\n",
    "print(a.upper())"
   ]
  },
  {
   "cell_type": "markdown",
   "id": "deb8d289-6e61-4dc3-a71c-42b1f12c5d70",
   "metadata": {},
   "source": [
    "example69"
   ]
  },
  {
   "cell_type": "code",
   "execution_count": 235,
   "id": "864a392d-696d-42f8-a793-ca97c29c721f",
   "metadata": {},
   "outputs": [
    {
     "name": "stdout",
     "output_type": "stream",
     "text": [
      "hello, world!\n"
     ]
    }
   ],
   "source": [
    "a = \"Hello, World!\"\n",
    "print(a.lower())\n"
   ]
  },
  {
   "cell_type": "markdown",
   "id": "e9226bab-2c5e-4ac4-a6f2-2b1968ccb608",
   "metadata": {},
   "source": [
    "example70"
   ]
  },
  {
   "cell_type": "code",
   "execution_count": 244,
   "id": "741b5d07-488d-4964-9e55-d486555562d3",
   "metadata": {},
   "outputs": [
    {
     "name": "stdout",
     "output_type": "stream",
     "text": [
      "Hello,World!\n"
     ]
    }
   ],
   "source": [
    "a = \"         Hello,World!                 \"\n",
    "print(a.strip())"
   ]
  },
  {
   "cell_type": "markdown",
   "id": "2f3b71ce-bc93-4396-8f88-d47eaf2b8b83",
   "metadata": {},
   "source": [
    "example71"
   ]
  },
  {
   "cell_type": "code",
   "execution_count": 247,
   "id": "e5fdf2cb-4212-4546-b017-b77ef626dfa4",
   "metadata": {},
   "outputs": [
    {
     "name": "stdout",
     "output_type": "stream",
     "text": [
      "Cello, World!\n"
     ]
    }
   ],
   "source": [
    "a = \"Hello, World!\"\n",
    "print(a.replace(\"H\", \"C\"))"
   ]
  },
  {
   "cell_type": "markdown",
   "id": "43a476b5-00a5-4210-8a28-035d43cdf7c5",
   "metadata": {},
   "source": [
    "example72"
   ]
  },
  {
   "cell_type": "code",
   "execution_count": 250,
   "id": "b89f9e71-9170-4efd-852a-e062e07253fe",
   "metadata": {},
   "outputs": [
    {
     "name": "stdout",
     "output_type": "stream",
     "text": [
      "['Hello', ' World', 'YEEENLIK!']\n"
     ]
    }
   ],
   "source": [
    "a = \"Hello, World,YEEENLIK!\"\n",
    "print(a.split(\",\")) "
   ]
  },
  {
   "cell_type": "markdown",
   "id": "a2b2dc86-182a-46e1-84ca-a7e25e0116d8",
   "metadata": {},
   "source": [
    "example73"
   ]
  },
  {
   "cell_type": "code",
   "execution_count": 253,
   "id": "6530a011-cd93-447d-85b9-aca910ae1350",
   "metadata": {},
   "outputs": [
    {
     "name": "stdout",
     "output_type": "stream",
     "text": [
      "HelloWorld\n"
     ]
    }
   ],
   "source": [
    "a = \"Hello\"\n",
    "b = \"World\"\n",
    "c = a + b\n",
    "print(c)"
   ]
  },
  {
   "cell_type": "markdown",
   "id": "2be4d3e3-2daf-4c27-be84-452d7fa28508",
   "metadata": {},
   "source": [
    "example74"
   ]
  },
  {
   "cell_type": "code",
   "execution_count": 256,
   "id": "71301602-758b-4435-aaea-139872fc3528",
   "metadata": {},
   "outputs": [
    {
     "name": "stdout",
     "output_type": "stream",
     "text": [
      "Hello World\n"
     ]
    }
   ],
   "source": [
    "a = \"Hello\"\n",
    "b = \"World\"\n",
    "c = a + \" \" + b\n",
    "print(c)\n"
   ]
  },
  {
   "cell_type": "markdown",
   "id": "b4a01c27-987a-452f-a738-394b920a52a1",
   "metadata": {},
   "source": [
    "example75"
   ]
  },
  {
   "cell_type": "code",
   "execution_count": 259,
   "id": "94836a5b-7bcb-425b-b684-bac841fbb7b0",
   "metadata": {},
   "outputs": [
    {
     "name": "stdout",
     "output_type": "stream",
     "text": [
      "My name is Yenlik, I am 17\n"
     ]
    }
   ],
   "source": [
    "age = 17\n",
    "txt = f\"My name is Yenlik, I am {age}\"\n",
    "print(txt)"
   ]
  },
  {
   "cell_type": "markdown",
   "id": "ab719236-0e5a-43a8-94ed-437a89ed2bbb",
   "metadata": {},
   "source": [
    "example76"
   ]
  },
  {
   "cell_type": "code",
   "execution_count": 268,
   "id": "0b5aaaa2-9b92-4497-bfdb-65a9e05b0124",
   "metadata": {},
   "outputs": [
    {
     "name": "stdout",
     "output_type": "stream",
     "text": [
      "The price is 5990.00000000 dollars\n"
     ]
    }
   ],
   "source": [
    "price = 5990\n",
    "txt = f\"The price is {price:.8f} dollars\"\n",
    "print(txt)"
   ]
  },
  {
   "cell_type": "markdown",
   "id": "125ad4a7-c1c6-4591-b6f6-1b9b4d652c7a",
   "metadata": {},
   "source": [
    "example77"
   ]
  },
  {
   "cell_type": "code",
   "execution_count": 271,
   "id": "4e756aa6-70e3-418c-8522-5a0ec1c5da19",
   "metadata": {},
   "outputs": [
    {
     "name": "stdout",
     "output_type": "stream",
     "text": [
      "This costs 1180 dollars\n"
     ]
    }
   ],
   "source": [
    "txt = f\"This costs {20 * 59} dollars\"\n",
    "print(txt)"
   ]
  },
  {
   "cell_type": "markdown",
   "id": "f69bb92b-c0fb-4924-86ca-ba78ace3a4ee",
   "metadata": {},
   "source": [
    "example78"
   ]
  },
  {
   "cell_type": "code",
   "execution_count": null,
   "id": "9977106b-4457-4a06-b6b0-3f8d7a09138d",
   "metadata": {},
   "outputs": [],
   "source": []
  }
 ],
 "metadata": {
  "kernelspec": {
   "display_name": "Python [conda env:base] *",
   "language": "python",
   "name": "conda-base-py"
  },
  "language_info": {
   "codemirror_mode": {
    "name": "ipython",
    "version": 3
   },
   "file_extension": ".py",
   "mimetype": "text/x-python",
   "name": "python",
   "nbconvert_exporter": "python",
   "pygments_lexer": "ipython3",
   "version": "3.12.7"
  }
 },
 "nbformat": 4,
 "nbformat_minor": 5
}
