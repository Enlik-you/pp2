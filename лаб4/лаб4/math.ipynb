{
 "cells": [
  {
   "cell_type": "markdown",
   "id": "22ef3a60-fd99-47b8-a01e-dde74bd1584c",
   "metadata": {},
   "source": [
    "1"
   ]
  },
  {
   "cell_type": "code",
   "execution_count": 3,
   "id": "707a33eb-22a3-4ac9-a260-b6c4d6eb964f",
   "metadata": {},
   "outputs": [
    {
     "name": "stdin",
     "output_type": "stream",
     "text": [
      " 5\n"
     ]
    },
    {
     "name": "stdout",
     "output_type": "stream",
     "text": [
      "0.08726646259971647\n"
     ]
    }
   ],
   "source": [
    "import math\n",
    "degree = int(input())\n",
    "radian = degree * math.pi / 180\n",
    "print(radian)  "
   ]
  },
  {
   "cell_type": "markdown",
   "id": "30af651c-87b6-4b98-a5ea-1d4f327d34b6",
   "metadata": {},
   "source": [
    "2"
   ]
  },
  {
   "cell_type": "code",
   "execution_count": 6,
   "id": "18b5a1cf-3b00-4404-84ed-f427af98dea6",
   "metadata": {},
   "outputs": [
    {
     "name": "stdin",
     "output_type": "stream",
     "text": [
      "height:  4\n",
      "base 1:  1\n",
      "base 2:  3\n"
     ]
    },
    {
     "name": "stdout",
     "output_type": "stream",
     "text": [
      "area of trapezoid: 8.0\n"
     ]
    }
   ],
   "source": [
    "h = int(input(\"height: \"))\n",
    "base_1 = int(input(\"base 1: \"))\n",
    "base_2 = int(input(\"base 2: \"))\n",
    "area = (1/2)*(base_1+base_2)*h\n",
    "print(f\"area of trapezoid: {area}\")"
   ]
  },
  {
   "cell_type": "markdown",
   "id": "75e4cb99-05cc-42b9-8e58-4c16ec3b76a8",
   "metadata": {},
   "source": [
    "3"
   ]
  },
  {
   "cell_type": "code",
   "execution_count": 9,
   "id": "010341f0-894c-435f-bd74-a7d35bc2c43f",
   "metadata": {},
   "outputs": [
    {
     "name": "stdin",
     "output_type": "stream",
     "text": [
      "number of sides:  1\n",
      "length if side:  3\n"
     ]
    },
    {
     "name": "stdout",
     "output_type": "stream",
     "text": [
      "area of the polygon is:  -1.837264427234479e+16\n"
     ]
    }
   ],
   "source": [
    "import math\n",
    "\n",
    "n = int(input(\"number of sides: \"))\n",
    "s = float(input(\"length if side: \"))\n",
    "\n",
    "area = (n * s**2) / (4 * math.tan(math.pi / n))\n",
    "print(\"area of the polygon is: \", round(area, 2))"
   ]
  },
  {
   "cell_type": "markdown",
   "id": "e4d79ea3-b5f9-4280-97ed-d2b85026220b",
   "metadata": {},
   "source": [
    "4"
   ]
  },
  {
   "cell_type": "code",
   "execution_count": 12,
   "id": "04706582-c17e-4b2e-ba26-a16858097d83",
   "metadata": {},
   "outputs": [
    {
     "name": "stdin",
     "output_type": "stream",
     "text": [
      "height:  2\n",
      "length of base:  6\n"
     ]
    },
    {
     "name": "stdout",
     "output_type": "stream",
     "text": [
      "area of parallelogram is: 12\n"
     ]
    }
   ],
   "source": [
    "h = int(input(\"height: \"))\n",
    "base = int(input(\"length of base: \"))\n",
    "\n",
    "area = base * h\n",
    "print(f\"area of parallelogram is: {area}\")"
   ]
  },
  {
   "cell_type": "code",
   "execution_count": null,
   "id": "c7300d02-a51c-4427-a107-1bdd51475739",
   "metadata": {},
   "outputs": [],
   "source": []
  }
 ],
 "metadata": {
  "kernelspec": {
   "display_name": "Python [conda env:base] *",
   "language": "python",
   "name": "conda-base-py"
  },
  "language_info": {
   "codemirror_mode": {
    "name": "ipython",
    "version": 3
   },
   "file_extension": ".py",
   "mimetype": "text/x-python",
   "name": "python",
   "nbconvert_exporter": "python",
   "pygments_lexer": "ipython3",
   "version": "3.12.7"
  }
 },
 "nbformat": 4,
 "nbformat_minor": 5
}
