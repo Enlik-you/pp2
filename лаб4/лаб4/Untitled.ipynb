{
 "cells": [
  {
   "cell_type": "code",
   "execution_count": 2,
   "id": "6ca18dae-87c8-4a4c-8079-0485b1b104c8",
   "metadata": {},
   "outputs": [
    {
     "name": "stdout",
     "output_type": "stream",
     "text": [
      "Inherit status\n",
      "====================================================================================\n",
      "DN                                                 Description           Speed    MTU\n",
      "-------------------------------------------------- --------------------  ------  ------\n",
      "topology/pod-1/node-201/sys/phys-[eth1/33]                               inherit   9150\n",
      "topology/pod-1/node-201/sys/phys-[eth1/34]                               inherit   9150\n",
      "topology/pod-1/node-201/sys/phys-[eth1/35]                               inherit   9150\n",
      "topology/pod-1/node-201/sys/phys-[eth1/36]                               inherit   9150\n",
      "topology/pod-1/node-201/sys/phys-[eth1/1]                               inherit   9150\n",
      "topology/pod-1/node-201/sys/phys-[eth1/2]                               inherit   9150\n",
      "topology/pod-1/node-201/sys/phys-[eth1/3]                               inherit   9150\n",
      "topology/pod-1/node-201/sys/phys-[eth1/4]                               inherit   9150\n",
      "topology/pod-1/node-201/sys/phys-[eth1/5]                               inherit   9150\n",
      "topology/pod-1/node-201/sys/phys-[eth1/6]                               inherit   9150\n",
      "topology/pod-1/node-201/sys/phys-[eth1/7]                               inherit   9150\n",
      "topology/pod-1/node-201/sys/phys-[eth1/8]                               inherit   9150\n",
      "topology/pod-1/node-201/sys/phys-[eth1/9]                               inherit   9150\n",
      "topology/pod-1/node-201/sys/phys-[eth1/10]                               inherit   9150\n",
      "topology/pod-1/node-201/sys/phys-[eth1/11]                               inherit   9150\n",
      "topology/pod-1/node-201/sys/phys-[eth1/12]                               inherit   9150\n",
      "topology/pod-1/node-201/sys/phys-[eth1/13]                               inherit   9150\n",
      "topology/pod-1/node-201/sys/phys-[eth1/14]                               inherit   9150\n"
     ]
    }
   ],
   "source": [
    "import json \n",
    "with open(\"sample-data.json\",\"r\") as file:\n",
    "    data=json.load(file)\n",
    "print(\"Inherit status\")\n",
    "print(\"=\"*84)\n",
    "print(\"DN                                                 Description           Speed    MTU\")\n",
    "print (\"-------------------------------------------------- --------------------  ------  ------\")\n",
    "array=data[\"imdata\"]\n",
    "for i in range (len(array)):\n",
    "    tn = array[i][\"l1PhysIf\"][\"attributes\"][\"dn\"]\n",
    "    desc = array[i][\"l1PhysIf\"][\"attributes\"][\"descr\"]\n",
    "    speed = array[i][\"l1PhysIf\"][\"attributes\"][\"speed\"]\n",
    "    mtu = array[i][\"l1PhysIf\"][\"attributes\"][\"mtu\"]\n",
    "    print(f\"{tn}         {desc}                      {speed}   {mtu}\")"
   ]
  },
  {
   "cell_type": "code",
   "execution_count": null,
   "id": "916f4e86-9141-4573-833c-9951b2f0e163",
   "metadata": {},
   "outputs": [],
   "source": []
  }
 ],
 "metadata": {
  "kernelspec": {
   "display_name": "Python [conda env:base] *",
   "language": "python",
   "name": "conda-base-py"
  },
  "language_info": {
   "codemirror_mode": {
    "name": "ipython",
    "version": 3
   },
   "file_extension": ".py",
   "mimetype": "text/x-python",
   "name": "python",
   "nbconvert_exporter": "python",
   "pygments_lexer": "ipython3",
   "version": "3.12.7"
  }
 },
 "nbformat": 4,
 "nbformat_minor": 5
}
