{
 "cells": [
  {
   "cell_type": "markdown",
   "id": "da8f60c4-4d06-4f7b-b21b-61a0f5a067d7",
   "metadata": {},
   "source": [
    "1"
   ]
  },
  {
   "cell_type": "code",
   "execution_count": 2,
   "id": "bfb91ef0-1811-44d4-809d-54b891d5e782",
   "metadata": {},
   "outputs": [
    {
     "name": "stdin",
     "output_type": "stream",
     "text": [
      "Enter N:  4\n"
     ]
    },
    {
     "name": "stdout",
     "output_type": "stream",
     "text": [
      "0 1 4 9 16 "
     ]
    }
   ],
   "source": [
    "def square(N):\n",
    "    for i in range(N + 1):\n",
    "        yield i ** 2  \n",
    "\n",
    "\n",
    "N = int(input(\"Enter N: \"))\n",
    "for sq in square(N):\n",
    "    print(sq, end=\" \")  "
   ]
  },
  {
   "cell_type": "markdown",
   "id": "c81c67c6-3194-440c-808a-c85c48866545",
   "metadata": {},
   "source": [
    "2"
   ]
  },
  {
   "cell_type": "code",
   "execution_count": 5,
   "id": "df64c73e-5cb1-4737-aaea-5aba4e132a8b",
   "metadata": {},
   "outputs": [
    {
     "name": "stdin",
     "output_type": "stream",
     "text": [
      "enter N:  6\n"
     ]
    },
    {
     "name": "stdout",
     "output_type": "stream",
     "text": [
      "0 2 4 6 "
     ]
    }
   ],
   "source": [
    "def even(N):\n",
    "    for i in range (N+1):\n",
    "        if i % 2 == 0:\n",
    "            yield i\n",
    "            \n",
    "N = int(input(\"enter N: \"))\n",
    "for num in even(N):\n",
    "    print(num, end = \" \")"
   ]
  },
  {
   "cell_type": "markdown",
   "id": "b50dce2e-6bdd-43a4-8e51-c0b16f4b510e",
   "metadata": {},
   "source": [
    "3"
   ]
  },
  {
   "cell_type": "code",
   "execution_count": 8,
   "id": "918e5247-7000-4900-8502-2258a0d094f6",
   "metadata": {},
   "outputs": [
    {
     "name": "stdin",
     "output_type": "stream",
     "text": [
      "enter:  45\n"
     ]
    },
    {
     "name": "stdout",
     "output_type": "stream",
     "text": [
      "0 12 24 36 "
     ]
    }
   ],
   "source": [
    "def num(n):\n",
    "    for i in range(n+1):\n",
    "        if i % 3 == 0 and i % 4 == 0:\n",
    "            yield i\n",
    "\n",
    "n =int(input(\"enter: \"))\n",
    "for i in num(n):\n",
    "    print(i, end = \" \") "
   ]
  },
  {
   "cell_type": "markdown",
   "id": "ed21f590-da67-4a91-b31a-dde888b1381a",
   "metadata": {},
   "source": [
    "4"
   ]
  },
  {
   "cell_type": "code",
   "execution_count": null,
   "id": "774a3363-1737-4830-b4d0-b10805dffb6a",
   "metadata": {},
   "outputs": [],
   "source": [
    "def squares(a,b):\n",
    "    for i in range(a, b+1):\n",
    "        yield i**2\n",
    "        \n",
    "a = int(input(\"enter a: \"))\n",
    "b = int(input(\"enter b: \"))\n",
    "for i in squares(a,b):\n",
    "    print(i)"
   ]
  },
  {
   "cell_type": "code",
   "execution_count": null,
   "id": "8c5f2572-9df7-4695-8570-7b62789c2cb1",
   "metadata": {},
   "outputs": [],
   "source": []
  }
 ],
 "metadata": {
  "kernelspec": {
   "display_name": "Python [conda env:base] *",
   "language": "python",
   "name": "conda-base-py"
  },
  "language_info": {
   "codemirror_mode": {
    "name": "ipython",
    "version": 3
   },
   "file_extension": ".py",
   "mimetype": "text/x-python",
   "name": "python",
   "nbconvert_exporter": "python",
   "pygments_lexer": "ipython3",
   "version": "3.12.7"
  }
 },
 "nbformat": 4,
 "nbformat_minor": 5
}
