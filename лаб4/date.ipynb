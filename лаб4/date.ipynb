{
 "cells": [
  {
   "cell_type": "markdown",
   "id": "7fe4a828-3d28-4313-a108-4cfad905343c",
   "metadata": {},
   "source": [
    "1"
   ]
  },
  {
   "cell_type": "code",
   "execution_count": 2,
   "id": "13d14276-ccdd-47bc-bda1-9c45ae6ab4d7",
   "metadata": {},
   "outputs": [
    {
     "name": "stdout",
     "output_type": "stream",
     "text": [
      "current date: 2025-02-19-Wednesday\n",
      "date 5 days ago: 2025-02-14-Friday\n"
     ]
    }
   ],
   "source": [
    "import datetime\n",
    "\n",
    "x = datetime.datetime.now()\n",
    "y = x - datetime.timedelta(days = 5)\n",
    "\n",
    "print(\"current date: \" + x.strftime(\"%Y-%m-%d-%A\"))\n",
    "print(\"date 5 days ago: \" + y.strftime(\"%Y-%m-%d-%A\"))"
   ]
  },
  {
   "cell_type": "markdown",
   "id": "4ca7c4c4-0644-4bd0-9b28-64f17d574e1c",
   "metadata": {},
   "source": [
    "2"
   ]
  },
  {
   "cell_type": "code",
   "execution_count": 5,
   "id": "8de95ece-5ca3-489c-b687-fb476156a947",
   "metadata": {},
   "outputs": [
    {
     "name": "stdout",
     "output_type": "stream",
     "text": [
      "2025-02-18-Tuesday\n",
      "2025-02-19-Wednesday\n",
      "2025-02-20-Thursday\n"
     ]
    }
   ],
   "source": [
    "import datetime\n",
    "\n",
    "today = datetime.datetime.now()\n",
    "yesterday = today - datetime.timedelta(days=1)\n",
    "tomorrow = today + datetime.timedelta(days=1)\n",
    "\n",
    "print(yesterday.strftime(\"%Y-%m-%d-%A\"))\n",
    "print(today.strftime(\"%Y-%m-%d-%A\"))\n",
    "print(tomorrow.strftime(\"%Y-%m-%d-%A\"))"
   ]
  },
  {
   "cell_type": "markdown",
   "id": "825a4832-4beb-4515-af57-de8930a04095",
   "metadata": {},
   "source": [
    "3"
   ]
  },
  {
   "cell_type": "code",
   "execution_count": 8,
   "id": "487414b5-a0cd-460a-974c-905144c39e4c",
   "metadata": {},
   "outputs": [
    {
     "name": "stdout",
     "output_type": "stream",
     "text": [
      "2025-02-19 09:10:26\n"
     ]
    }
   ],
   "source": [
    "import datetime\n",
    "\n",
    "x = datetime.datetime.now().replace(microsecond=0)\n",
    "print(x)"
   ]
  },
  {
   "cell_type": "markdown",
   "id": "af1f2e6d-329a-4db6-9b0a-b58af949b339",
   "metadata": {},
   "source": [
    "4"
   ]
  },
  {
   "cell_type": "code",
   "execution_count": 11,
   "id": "fcc3c31a-d4ee-45d1-9732-0c8ad2262f96",
   "metadata": {},
   "outputs": [
    {
     "name": "stdout",
     "output_type": "stream",
     "text": [
      "Difference in seconds: 784620.0\n"
     ]
    }
   ],
   "source": [
    "import datetime\n",
    "\n",
    "date1 = datetime.datetime(2025, 2, 1, 13, 2, 0)  \n",
    "date2 = datetime.datetime(2025, 2, 10, 14, 59, 0) \n",
    "\n",
    "sec = abs((date2 - date1).total_seconds())\n",
    "\n",
    "print(\"Difference in seconds:\", sec)"
   ]
  },
  {
   "cell_type": "code",
   "execution_count": null,
   "id": "64009180-e0c0-4291-905b-104713eb5f61",
   "metadata": {},
   "outputs": [],
   "source": []
  }
 ],
 "metadata": {
  "kernelspec": {
   "display_name": "Python [conda env:base] *",
   "language": "python",
   "name": "conda-base-py"
  },
  "language_info": {
   "codemirror_mode": {
    "name": "ipython",
    "version": 3
   },
   "file_extension": ".py",
   "mimetype": "text/x-python",
   "name": "python",
   "nbconvert_exporter": "python",
   "pygments_lexer": "ipython3",
   "version": "3.12.7"
  }
 },
 "nbformat": 4,
 "nbformat_minor": 5
}
