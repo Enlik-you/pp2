{
 "cells": [
  {
   "cell_type": "code",
   "execution_count": 3,
   "id": "3a295b47-d7d7-46d1-9a93-aab89d567ba8",
   "metadata": {},
   "outputs": [
    {
     "ename": "FileNotFoundError",
     "evalue": "[WinError 3] Системе не удается найти указанный путь: 'лаб7'",
     "output_type": "error",
     "traceback": [
      "\u001b[1;31m---------------------------------------------------------------------------\u001b[0m",
      "\u001b[1;31mFileNotFoundError\u001b[0m                         Traceback (most recent call last)",
      "Cell \u001b[1;32mIn[3], line 12\u001b[0m\n\u001b[0;32m      9\u001b[0m background \u001b[38;5;241m=\u001b[39m pygame\u001b[38;5;241m.\u001b[39mtransform\u001b[38;5;241m.\u001b[39mscale(background, (\u001b[38;5;241m500\u001b[39m, \u001b[38;5;241m500\u001b[39m))\n\u001b[0;32m     11\u001b[0m music_folder \u001b[38;5;241m=\u001b[39m \u001b[38;5;124m\"\u001b[39m\u001b[38;5;124mлаб7\u001b[39m\u001b[38;5;124m\"\u001b[39m\n\u001b[1;32m---> 12\u001b[0m tracks \u001b[38;5;241m=\u001b[39m [f \u001b[38;5;28;01mfor\u001b[39;00m f \u001b[38;5;129;01min\u001b[39;00m os\u001b[38;5;241m.\u001b[39mlistdir(music_folder) \u001b[38;5;28;01mif\u001b[39;00m f\u001b[38;5;241m.\u001b[39mendswith(\u001b[38;5;124m'\u001b[39m\u001b[38;5;124m.mp3\u001b[39m\u001b[38;5;124m'\u001b[39m)]\n\u001b[0;32m     15\u001b[0m \u001b[38;5;28;01mif\u001b[39;00m \u001b[38;5;129;01mnot\u001b[39;00m tracks:\n\u001b[0;32m     16\u001b[0m     \u001b[38;5;28mprint\u001b[39m(\u001b[38;5;124m\"\u001b[39m\u001b[38;5;124mNo music files found\u001b[39m\u001b[38;5;124m\"\u001b[39m)\n",
      "\u001b[1;31mFileNotFoundError\u001b[0m: [WinError 3] Системе не удается найти указанный путь: 'лаб7'"
     ]
    }
   ],
   "source": [
    "import pygame\n",
    "import os\n",
    "\n",
    "pygame.init()\n",
    "\n",
    "screen = pygame.display.set_mode((500, 500))\n",
    "pygame.display.set_caption(\"music player\")\n",
    "background = pygame.image.load(\"blackpink.webp\")\n",
    "background = pygame.transform.scale(background, (500, 500))\n",
    "\n",
    "music_folder = \"лаб7\"\n",
    "tracks = [f for f in os.listdir(music_folder) if f.endswith('.mp3')]\n",
    "\n",
    "\n",
    "if not tracks:\n",
    "    print(\"No music files found\")\n",
    "    pygame.quit()\n",
    "    exit()\n",
    "\n",
    "current_track = 0\n",
    "playing = True\n",
    "track_position = 0\n",
    "\n",
    "pygame.mixer.music.load(os.path.join(music_folder, tracks[current_track]))\n",
    "pygame.mixer.music.play()\n",
    "\n",
    "done = False\n",
    "while not done:\n",
    "    for event in pygame.event.get():\n",
    "        if event.type == pygame.QUIT:\n",
    "            done = True\n",
    "        \n",
    "        if event.type == pygame.KEYDOWN:\n",
    "           \n",
    "           if event.key == pygame.K_w:\n",
    "                if not playing:\n",
    "                    pygame.mixer.music.play(start=track_position)\n",
    "                    playing = True\n",
    "                    \n",
    "           if event.key == pygame.K_s:\n",
    "                track_position = pygame.mixer.music.get_pos()/1000\n",
    "                pygame.mixer.music.stop()\n",
    "                playing = False\n",
    "            \n",
    "           if event.key == pygame.K_d:\n",
    "                current_track = (current_track +1) % len(tracks)\n",
    "                pygame.mixer.music.load(os.path.join(music_folder, tracks[current_track]))\n",
    "                pygame.mixer.music.play()\n",
    "                playing = True\n",
    "            \n",
    "           if event.key == pygame.K_a:\n",
    "                current_track = (current_track -1) % len(tracks)\n",
    "                pygame.mixer.music.load(os.path.join(music_folder, tracks[current_track]))\n",
    "                pygame.mixer.music.play()\n",
    "                playing = True\n",
    "    screen.blit(background, (0,0))\n",
    "    pygame.display.flip()"
   ]
  },
  {
   "cell_type": "code",
   "execution_count": null,
   "id": "73ae20d0-5ed9-4ef5-8f51-e9b089728da1",
   "metadata": {},
   "outputs": [],
   "source": []
  },
  {
   "cell_type": "code",
   "execution_count": null,
   "id": "391ac282-8128-4b35-aa24-059756119535",
   "metadata": {},
   "outputs": [],
   "source": []
  }
 ],
 "metadata": {
  "kernelspec": {
   "display_name": "Python [conda env:base] *",
   "language": "python",
   "name": "conda-base-py"
  },
  "language_info": {
   "codemirror_mode": {
    "name": "ipython",
    "version": 3
   },
   "file_extension": ".py",
   "mimetype": "text/x-python",
   "name": "python",
   "nbconvert_exporter": "python",
   "pygments_lexer": "ipython3",
   "version": "3.12.7"
  }
 },
 "nbformat": 4,
 "nbformat_minor": 5
}
