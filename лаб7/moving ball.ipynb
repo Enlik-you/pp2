{
 "cells": [
  {
   "cell_type": "code",
   "execution_count": null,
   "id": "4211295c-1fc2-4a4e-bc22-8727a0c52ea9",
   "metadata": {},
   "outputs": [
    {
     "name": "stdout",
     "output_type": "stream",
     "text": [
      "pygame 2.6.1 (SDL 2.28.4, Python 3.12.7)\n",
      "Hello from the pygame community. https://www.pygame.org/contribute.html\n"
     ]
    }
   ],
   "source": [
    "import pygame\n",
    "\n",
    "pygame.init()\n",
    "screen = pygame.display.set_mode((400, 300))\n",
    "pygame.display.set_caption(\"Moving Red Ball\")\n",
    "done = False\n",
    "\n",
    "ball_radius = 25\n",
    "x = 30\n",
    "y = 30\n",
    "speed = 20\n",
    "\n",
    "clock = pygame.time.Clock()\n",
    "while not done:\n",
    "        for event in pygame.event.get():\n",
    "                if event.type == pygame.QUIT:\n",
    "                        done = True\n",
    "        \n",
    "        pressed = pygame.key.get_pressed()\n",
    "        if pressed[pygame.K_UP]and y-ball_radius-speed>=0: y -= 20\n",
    "        if pressed[pygame.K_DOWN]and y+ball_radius+speed<=300: y += 20\n",
    "        if pressed[pygame.K_LEFT] and x-ball_radius-speed>=0: x -= 20\n",
    "        if pressed[pygame.K_RIGHT]and x+ball_radius+speed<=400: x += 20\n",
    "        \n",
    "        screen.fill((255,255,255))\n",
    "        pygame.draw.circle(screen, (255,0,0), (x, y), ball_radius)\n",
    "        \n",
    "        pygame.display.flip()\n",
    "        clock.tick(60)"
   ]
  },
  {
   "cell_type": "code",
   "execution_count": null,
   "id": "4c95fee6-0e75-4465-a4bd-60cd5d737f2c",
   "metadata": {},
   "outputs": [],
   "source": []
  }
 ],
 "metadata": {
  "kernelspec": {
   "display_name": "Python [conda env:base] *",
   "language": "python",
   "name": "conda-base-py"
  },
  "language_info": {
   "codemirror_mode": {
    "name": "ipython",
    "version": 3
   },
   "file_extension": ".py",
   "mimetype": "text/x-python",
   "name": "python",
   "nbconvert_exporter": "python",
   "pygments_lexer": "ipython3",
   "version": "3.12.7"
  }
 },
 "nbformat": 4,
 "nbformat_minor": 5
}
