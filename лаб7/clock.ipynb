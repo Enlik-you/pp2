{
 "cells": [
  {
   "cell_type": "code",
   "execution_count": 3,
   "id": "8124e082-d9e2-4fd7-87cf-edd3f4095470",
   "metadata": {},
   "outputs": [
    {
     "name": "stdout",
     "output_type": "stream",
     "text": [
      "Requirement already satisfied: pygame in c:\\users\\user\\anaconda3\\lib\\site-packages (2.6.1)\n",
      "Note: you may need to restart the kernel to use updated packages.\n"
     ]
    }
   ],
   "source": [
    "pip install pygame\n"
   ]
  },
  {
   "cell_type": "code",
   "execution_count": 9,
   "id": "5a4606cd-e988-498a-8c62-ba23699d4db8",
   "metadata": {},
   "outputs": [],
   "source": [
    "import pygame\n",
    "import time\n",
    "\n",
    "pygame.init()\n",
    "\n",
    "screen_width, screen_height = 800, 600\n",
    "screen = pygame.display.set_mode((screen_width, screen_height))\n",
    "pygame.display.set_caption(\"Mickey clock\")\n",
    "\n",
    "background = pygame.image.load(\"clock.png\")\n",
    "min_hand = pygame.image.load(\"min_hand.png\")\n",
    "sec_hand = pygame.image.load(\"sec_hand.png\")\n",
    "\n",
    "center = (screen_width // 2, screen_height // 2)\n",
    "\n",
    "def rotate_hand(image, angle, pivot):\n",
    "    rotated_image = pygame.transform.rotate(image, angle)\n",
    "    rotated_rect = rotated_image.get_rect(center=pivot)\n",
    "    return rotated_image, rotated_rect\n",
    "\n",
    "clock = pygame.time.Clock()\n",
    "running = True\n",
    "while running:\n",
    "    for event in pygame.event.get():\n",
    "        if event.type == pygame.QUIT:\n",
    "            running = False\n",
    "            \n",
    "    crrt_tm = time.localtime()\n",
    "    minutes = crrt_tm.tm_min\n",
    "    seconds = crrt_tm.tm_sec\n",
    "    \n",
    "    min_angle = -(minutes * 6)\n",
    "    sec_angle = -(seconds * 6)\n",
    "    \n",
    "    screen.blit(background, (0, 0))\n",
    "    \n",
    "    rotated_right_hand, min_rect = rotate_hand(min_hand, min_angle, center)\n",
    "    screen.blit(rotated_right_hand,min_rect)\n",
    "    \n",
    "    rotated_left_hand, sec_rect = rotate_hand(sec_hand, sec_angle, center)\n",
    "    screen.blit(rotated_left_hand, sec_rect)\n",
    "    \n",
    "    pygame.display.flip()\n",
    "    clock.tick(60)\n",
    "pygame.quit()"
   ]
  }
 ],
 "metadata": {
  "kernelspec": {
   "display_name": "Python [conda env:base] *",
   "language": "python",
   "name": "conda-base-py"
  },
  "language_info": {
   "codemirror_mode": {
    "name": "ipython",
    "version": 3
   },
   "file_extension": ".py",
   "mimetype": "text/x-python",
   "name": "python",
   "nbconvert_exporter": "python",
   "pygments_lexer": "ipython3",
   "version": "3.12.7"
  }
 },
 "nbformat": 4,
 "nbformat_minor": 5
}
