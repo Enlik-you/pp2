{
 "cells": [
  {
   "cell_type": "markdown",
   "id": "d4a48965-6f05-4d18-b6e8-0bffd3734de7",
   "metadata": {},
   "source": [
    "problem1"
   ]
  },
  {
   "cell_type": "code",
   "execution_count": 4,
   "id": "4f45ce3c-4030-4c2e-b0c6-bce2b048782f",
   "metadata": {},
   "outputs": [
    {
     "name": "stdin",
     "output_type": "stream",
     "text": [
      "Enter a string:  eeeeeeee\n"
     ]
    },
    {
     "name": "stdout",
     "output_type": "stream",
     "text": [
      "EEEEEEEE\n"
     ]
    }
   ],
   "source": [
    "class StringHandler:\n",
    "    def __init__(self):\n",
    "        self.s = \"\"\n",
    "\n",
    "    def getString(self):\n",
    "        self.s = input(\"Enter a string: \")\n",
    "\n",
    "    def printString(self):\n",
    "        print(self.s.upper())\n",
    "\n",
    "\n",
    "obj = StringHandler()\n",
    "obj.getString()\n",
    "obj.printString()\n"
   ]
  },
  {
   "cell_type": "markdown",
   "id": "7d17b079-4727-4e3f-850a-6614b97f1907",
   "metadata": {},
   "source": [
    "priblem2\n"
   ]
  },
  {
   "cell_type": "code",
   "execution_count": 7,
   "id": "680cfd65-7281-477b-a7ae-8cd20a810385",
   "metadata": {},
   "outputs": [
    {
     "name": "stdout",
     "output_type": "stream",
     "text": [
      "Area: 0\n",
      "Area of square: 25\n"
     ]
    }
   ],
   "source": [
    "class Shape:\n",
    "    def __init__(self):\n",
    "        self.area_value = 0  # Default \n",
    "\n",
    "    def area(self):\n",
    "        print(f\"Area: {self.area_value}\")\n",
    "\n",
    "class Square(Shape):\n",
    "    def __init__(self, length):\n",
    "        super().__init__()  #\n",
    "        self.length = length\n",
    "        self.area_value = length * length \n",
    "    def area(self):\n",
    "        print(f\"Area of square: {self.area_value}\")\n",
    "\n",
    "\n",
    "shape = Shape()\n",
    "shape.area() \n",
    "\n",
    "square = Square(5)\n",
    "square.area()  \n"
   ]
  },
  {
   "cell_type": "markdown",
   "id": "56d385cc-8e46-4e3c-9dc7-262e1d39ceba",
   "metadata": {},
   "source": [
    "problem3"
   ]
  },
  {
   "cell_type": "code",
   "execution_count": 11,
   "id": "04de9a3a-694f-4da1-9ac0-4905ed33062d",
   "metadata": {},
   "outputs": [
    {
     "name": "stdout",
     "output_type": "stream",
     "text": [
      "Area: 0\n",
      "Area of rectangle: 24\n"
     ]
    }
   ],
   "source": [
    "class Shape:\n",
    "    def __init__(self):\n",
    "        self.area_value = 0  \n",
    "\n",
    "    def area(self):\n",
    "        print(f\"Area: {self.area_value}\")\n",
    "\n",
    "class Rectangle(Shape):\n",
    "    def __init__(self, length, width):\n",
    "        super().__init__()  \n",
    "        self.length = length\n",
    "        self.width = width\n",
    "        self.area_value = length * width  \n",
    "\n",
    "    def area(self):\n",
    "        print(f\"Area of rectangle: {self.area_value}\")\n",
    "\n",
    "\n",
    "shape = Shape()\n",
    "shape.area()  \n",
    "rectangle = Rectangle(4, 6)\n",
    "rectangle.area()  "
   ]
  },
  {
   "cell_type": "markdown",
   "id": "9c1222a1-3697-4898-b8a6-b0a442def9d2",
   "metadata": {},
   "source": [
    "problem4"
   ]
  },
  {
   "cell_type": "code",
   "execution_count": 14,
   "id": "87d86326-2b3d-4dd3-adbf-7231c25e89c3",
   "metadata": {},
   "outputs": [
    {
     "name": "stdout",
     "output_type": "stream",
     "text": [
      "Point coordinates: (3, 4)\n",
      "Point coordinates: (6, 8)\n",
      "Distance: 5.0\n",
      "Point coordinates: (7, 9)\n"
     ]
    }
   ],
   "source": [
    "import math\n",
    "\n",
    "class Point:\n",
    "    def __init__(self, x, y):\n",
    "        self.x = x\n",
    "        self.y = y\n",
    "\n",
    "    def show(self):\n",
    "        print(f\"Point coordinates: ({self.x}, {self.y})\")\n",
    "\n",
    "    def move(self, new_x, new_y):\n",
    "        self.x = new_x\n",
    "        self.y = new_y\n",
    "\n",
    "    def dist(self, other_point):\n",
    "        return math.sqrt((self.x - other_point.x) ** 2 + (self.y - other_point.y) ** 2)\n",
    "\n",
    "\n",
    "p1 = Point(3, 4)\n",
    "p2 = Point(6, 8)\n",
    "\n",
    "p1.show()  \n",
    "p2.show()  \n",
    "\n",
    "print(f\"Distance: {p1.dist(p2)}\")  \n",
    "\n",
    "p1.move(7, 9)\n",
    "p1.show()  \n"
   ]
  },
  {
   "cell_type": "markdown",
   "id": "1aed7ad1-85ef-4634-97db-81b032b96ea6",
   "metadata": {},
   "source": [
    "problem5"
   ]
  },
  {
   "cell_type": "code",
   "execution_count": 17,
   "id": "88ecfb0f-67d6-43d5-9a01-06aa4bdc2c66",
   "metadata": {},
   "outputs": [
    {
     "name": "stdout",
     "output_type": "stream",
     "text": [
      "Account Owner: John Doe, Initial Balance: $100\n",
      "Deposit of $50 successful. New balance: $150\n",
      "Withdrawal of $30 successful. New balance: $120\n",
      "Insufficient funds. Withdrawal denied.\n",
      "Withdrawal amount must be positive.\n"
     ]
    }
   ],
   "source": [
    "class Account:\n",
    "    def __init__(self, owner, balance=0):\n",
    "        self.owner = owner\n",
    "        self.balance = balance\n",
    "\n",
    "    def deposit(self, amount):\n",
    "        if amount > 0:\n",
    "            self.balance += amount\n",
    "            print(f\"Deposit of ${amount} successful. New balance: ${self.balance}\")\n",
    "        else:\n",
    "            print(\"Deposit amount must be positive.\")\n",
    "\n",
    "    def withdraw(self, amount):\n",
    "        if amount > self.balance:\n",
    "            print(\"Insufficient funds. Withdrawal denied.\")\n",
    "        elif amount <= 0:\n",
    "            print(\"Withdrawal amount must be positive.\")\n",
    "        else:\n",
    "            self.balance -= amount\n",
    "            print(f\"Withdrawal of ${amount} successful. New balance: ${self.balance}\")\n",
    "\n",
    "account = Account(\"John Doe\", 100)\n",
    "print(f\"Account Owner: {account.owner}, Initial Balance: ${account.balance}\")\n",
    "\n",
    "account.deposit(50)  \n",
    "account.withdraw(30)  \n",
    "account.withdraw(150)  \n",
    "account.withdraw(-10)  \n"
   ]
  },
  {
   "cell_type": "code",
   "execution_count": null,
   "id": "45d283c0-e393-4bba-9db8-334a466b2904",
   "metadata": {},
   "outputs": [],
   "source": []
  }
 ],
 "metadata": {
  "kernelspec": {
   "display_name": "Python [conda env:base] *",
   "language": "python",
   "name": "conda-base-py"
  },
  "language_info": {
   "codemirror_mode": {
    "name": "ipython",
    "version": 3
   },
   "file_extension": ".py",
   "mimetype": "text/x-python",
   "name": "python",
   "nbconvert_exporter": "python",
   "pygments_lexer": "ipython3",
   "version": "3.12.7"
  }
 },
 "nbformat": 4,
 "nbformat_minor": 5
}
