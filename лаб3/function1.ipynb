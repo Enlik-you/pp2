{
 "cells": [
  {
   "cell_type": "markdown",
   "id": "f5213d6b-4170-4b2f-937f-2cbc7bdd0fdc",
   "metadata": {},
   "source": [
    "problem1"
   ]
  },
  {
   "cell_type": "code",
   "execution_count": 6,
   "id": "fd932c6e-0c7d-4a72-b0f2-50cc089966f5",
   "metadata": {},
   "outputs": [
    {
     "name": "stdin",
     "output_type": "stream",
     "text": [
      " 12\n"
     ]
    },
    {
     "name": "stdout",
     "output_type": "stream",
     "text": [
      "340.1942772\n"
     ]
    }
   ],
   "source": [
    "def gr(gramm):\n",
    "    return 28.3495231*gramm\n",
    "a=int(input())\n",
    "print(gr(a))"
   ]
  },
  {
   "cell_type": "markdown",
   "id": "0f52f2fe-f782-457c-bc8e-d7c628769f15",
   "metadata": {},
   "source": [
    "problem 2"
   ]
  },
  {
   "cell_type": "code",
   "execution_count": 10,
   "id": "bed752b1-c01f-4ef4-b30d-3c61716058cc",
   "metadata": {},
   "outputs": [
    {
     "name": "stdin",
     "output_type": "stream",
     "text": [
      " 41\n"
     ]
    },
    {
     "name": "stdout",
     "output_type": "stream",
     "text": [
      "5.0\n"
     ]
    }
   ],
   "source": [
    "def calc(farang):\n",
    "    return (5/9)*(farang-32)\n",
    "d=int(input())\n",
    "print(calc(d))"
   ]
  },
  {
   "cell_type": "markdown",
   "id": "2df3f2b3-8570-49a3-b984-39ee8f1a68c2",
   "metadata": {},
   "source": [
    "problem3"
   ]
  },
  {
   "cell_type": "code",
   "execution_count": 5,
   "id": "864f2713-a845-4e4f-bf9a-f06ce34de827",
   "metadata": {},
   "outputs": [
    {
     "name": "stdin",
     "output_type": "stream",
     "text": [
      " 3\n",
      " 10\n"
     ]
    },
    {
     "name": "stdout",
     "output_type": "stream",
     "text": [
      "there are 1 chickens and 2 rabbits\n"
     ]
    }
   ],
   "source": [
    "'''\n",
    "35 голов, 94 ног\n",
    "x+y=35 -> x=35-y -> y=12\n",
    "2x+4y=94 -> x+2(35-x)=47 -> x+70-2x=47 -> -x = -23 \n",
    "'''\n",
    "\n",
    "def solve(numheads, numlegs):\n",
    "    for x in range(numheads + 1):\n",
    "        y = numheads - x\n",
    "        if 2 * x + 4 * y == numlegs:\n",
    "            return x, y\n",
    "    return None, None\n",
    "\n",
    "\n",
    "head = int(input())\n",
    "legs = int(input())\n",
    "\n",
    "chicken, rabbit = solve(head,legs)\n",
    "if chicken is not None and rabbit is not None:\n",
    "    print(f\"there are {chicken} chickens and {rabbit} rabbits\")\n",
    "else:\n",
    "    print(\"no solution\")"
   ]
  },
  {
   "cell_type": "markdown",
   "id": "c397ab04-9f61-4fdd-94de-eb2110366240",
   "metadata": {},
   "source": [
    "4"
   ]
  },
  {
   "cell_type": "code",
   "execution_count": 10,
   "id": "247b52fd-5c2b-4cd3-ac80-ec36324c32aa",
   "metadata": {},
   "outputs": [
    {
     "name": "stdin",
     "output_type": "stream",
     "text": [
      " 6 8     0 9 13 3\n"
     ]
    },
    {
     "name": "stdout",
     "output_type": "stream",
     "text": [
      "[13, 3]\n"
     ]
    }
   ],
   "source": [
    "def filter_prime(n):\n",
    "    if n < 2:\n",
    "        return False\n",
    "    for i in range(2, int(n ** 0.5) + 1):\n",
    "        if n % i == 0:\n",
    "            return False\n",
    "    return True\n",
    "\n",
    "numbers = list(map(int, input().split()))\n",
    "\n",
    "prime_numbers = []\n",
    "\n",
    "for num in numbers:\n",
    "    if filter_prime(num):\n",
    "        prime_numbers.append(num)\n",
    "        \n",
    "print(prime_numbers)"
   ]
  },
  {
   "cell_type": "markdown",
   "id": "dbfdf287-84ee-4808-9962-c85a97150aa8",
   "metadata": {},
   "source": [
    "5\n"
   ]
  },
  {
   "cell_type": "code",
   "execution_count": 13,
   "id": "43f5ff87-9da9-4dee-8c4e-487ff5bc47ea",
   "metadata": {},
   "outputs": [
    {
     "name": "stdin",
     "output_type": "stream",
     "text": [
      "  1 2 3\n"
     ]
    },
    {
     "name": "stdout",
     "output_type": "stream",
     "text": [
      "[' 1 2 3', ' 1 23 ', ' 1  23', ' 1  32', ' 1 32 ', ' 1 3 2', ' 12  3', ' 12 3 ', ' 12  3', ' 12 3 ', ' 123  ', ' 123  ', ' 1  23', ' 1  32', ' 1 2 3', ' 1 23 ', ' 1 3 2', ' 1 32 ', ' 13 2 ', ' 13  2', ' 132  ', ' 132  ', ' 13  2', ' 13 2 ', '  12 3', '  123 ', '  1 23', '  1 32', '  132 ', '  13 2', '  21 3', '  213 ', '  2 13', '  2 31', '  231 ', '  23 1', '   123', '   132', '   213', '   231', '   312', '   321', '  312 ', '  31 2', '  321 ', '  32 1', '  3 12', '  3 21', ' 21  3', ' 21 3 ', ' 21  3', ' 21 3 ', ' 213  ', ' 213  ', ' 2 1 3', ' 2 13 ', ' 2  13', ' 2  31', ' 2 31 ', ' 2 3 1', ' 2 1 3', ' 2 13 ', ' 2  13', ' 2  31', ' 2 31 ', ' 2 3 1', ' 231  ', ' 231  ', ' 23 1 ', ' 23  1', ' 23 1 ', ' 23  1', '  1 23', '  1 32', '  12 3', '  123 ', '  13 2', '  132 ', '   123', '   132', '   213', '   231', '   312', '   321', '  21 3', '  213 ', '  2 13', '  2 31', '  231 ', '  23 1', '  31 2', '  312 ', '  3 12', '  3 21', '  321 ', '  32 1', ' 31 2 ', ' 31  2', ' 312  ', ' 312  ', ' 31  2', ' 31 2 ', ' 3 12 ', ' 3 1 2', ' 3 21 ', ' 3 2 1', ' 3  12', ' 3  21', ' 321  ', ' 321  ', ' 32 1 ', ' 32  1', ' 32 1 ', ' 32  1', ' 3 1 2', ' 3 12 ', ' 3  12', ' 3  21', ' 3 21 ', ' 3 2 1', '1  2 3', '1  23 ', '1   23', '1   32', '1  32 ', '1  3 2', '1 2  3', '1 2 3 ', '1 2  3', '1 2 3 ', '1 23  ', '1 23  ', '1   23', '1   32', '1  2 3', '1  23 ', '1  3 2', '1  32 ', '1 3 2 ', '1 3  2', '1 32  ', '1 32  ', '1 3  2', '1 3 2 ', '1  2 3', '1  23 ', '1   23', '1   32', '1  32 ', '1  3 2', '1 2  3', '1 2 3 ', '1 2  3', '1 2 3 ', '1 23  ', '1 23  ', '1   23', '1   32', '1  2 3', '1  23 ', '1  3 2', '1  32 ', '1 3 2 ', '1 3  2', '1 32  ', '1 32  ', '1 3  2', '1 3 2 ', '12   3', '12  3 ', '12   3', '12  3 ', '12 3  ', '12 3  ', '12   3', '12  3 ', '12   3', '12  3 ', '12 3  ', '12 3  ', '12   3', '12  3 ', '12   3', '12  3 ', '12 3  ', '12 3  ', '123   ', '123   ', '123   ', '123   ', '123   ', '123   ', '1   23', '1   32', '1  2 3', '1  23 ', '1  3 2', '1  32 ', '1   23', '1   32', '1  2 3', '1  23 ', '1  3 2', '1  32 ', '1 2  3', '1 2 3 ', '1 2  3', '1 2 3 ', '1 23  ', '1 23  ', '1 3  2', '1 3 2 ', '1 3  2', '1 3 2 ', '1 32  ', '1 32  ', '13  2 ', '13   2', '13 2  ', '13 2  ', '13   2', '13  2 ', '13  2 ', '13   2', '13 2  ', '13 2  ', '13   2', '13  2 ', '132   ', '132   ', '132   ', '132   ', '132   ', '132   ', '13   2', '13  2 ', '13   2', '13  2 ', '13 2  ', '13 2  ', '  12 3', '  123 ', '  1 23', '  1 32', '  132 ', '  13 2', '  21 3', '  213 ', '  2 13', '  2 31', '  231 ', '  23 1', '   123', '   132', '   213', '   231', '   312', '   321', '  312 ', '  31 2', '  321 ', '  32 1', '  3 12', '  3 21', ' 1 2 3', ' 1 23 ', ' 1  23', ' 1  32', ' 1 32 ', ' 1 3 2', ' 12  3', ' 12 3 ', ' 12  3', ' 12 3 ', ' 123  ', ' 123  ', ' 1  23', ' 1  32', ' 1 2 3', ' 1 23 ', ' 1 3 2', ' 1 32 ', ' 13 2 ', ' 13  2', ' 132  ', ' 132  ', ' 13  2', ' 13 2 ', ' 2 1 3', ' 2 13 ', ' 2  13', ' 2  31', ' 2 31 ', ' 2 3 1', ' 21  3', ' 21 3 ', ' 21  3', ' 21 3 ', ' 213  ', ' 213  ', ' 2  13', ' 2  31', ' 2 1 3', ' 2 13 ', ' 2 3 1', ' 2 31 ', ' 23 1 ', ' 23  1', ' 231  ', ' 231  ', ' 23  1', ' 23 1 ', '   123', '   132', '   213', '   231', '   312', '   321', '  1 23', '  1 32', '  12 3', '  123 ', '  13 2', '  132 ', '  2 13', '  2 31', '  21 3', '  213 ', '  23 1', '  231 ', '  3 12', '  3 21', '  31 2', '  312 ', '  32 1', '  321 ', ' 3 12 ', ' 3 1 2', ' 3 21 ', ' 3 2 1', ' 3  12', ' 3  21', ' 31 2 ', ' 31  2', ' 312  ', ' 312  ', ' 31  2', ' 31 2 ', ' 32 1 ', ' 32  1', ' 321  ', ' 321  ', ' 32  1', ' 32 1 ', ' 3  12', ' 3  21', ' 3 1 2', ' 3 12 ', ' 3 2 1', ' 3 21 ', '2 1  3', '2 1 3 ', '2 1  3', '2 1 3 ', '2 13  ', '2 13  ', '2  1 3', '2  13 ', '2   13', '2   31', '2  31 ', '2  3 1', '2  1 3', '2  13 ', '2   13', '2   31', '2  31 ', '2  3 1', '2 31  ', '2 31  ', '2 3 1 ', '2 3  1', '2 3 1 ', '2 3  1', '21   3', '21  3 ', '21   3', '21  3 ', '21 3  ', '21 3  ', '21   3', '21  3 ', '21   3', '21  3 ', '21 3  ', '21 3  ', '21   3', '21  3 ', '21   3', '21  3 ', '21 3  ', '21 3  ', '213   ', '213   ', '213   ', '213   ', '213   ', '213   ', '2  1 3', '2  13 ', '2   13', '2   31', '2  31 ', '2  3 1', '2 1  3', '2 1 3 ', '2 1  3', '2 1 3 ', '2 13  ', '2 13  ', '2   13', '2   31', '2  1 3', '2  13 ', '2  3 1', '2  31 ', '2 3 1 ', '2 3  1', '2 31  ', '2 31  ', '2 3  1', '2 3 1 ', '2  1 3', '2  13 ', '2   13', '2   31', '2  31 ', '2  3 1', '2 1  3', '2 1 3 ', '2 1  3', '2 1 3 ', '2 13  ', '2 13  ', '2   13', '2   31', '2  1 3', '2  13 ', '2  3 1', '2  31 ', '2 3 1 ', '2 3  1', '2 31  ', '2 31  ', '2 3  1', '2 3 1 ', '23 1  ', '23 1  ', '23  1 ', '23   1', '23  1 ', '23   1', '231   ', '231   ', '231   ', '231   ', '231   ', '231   ', '23  1 ', '23   1', '23 1  ', '23 1  ', '23   1', '23  1 ', '23  1 ', '23   1', '23 1  ', '23 1  ', '23   1', '23  1 ', '  1 23', '  1 32', '  12 3', '  123 ', '  13 2', '  132 ', '   123', '   132', '   213', '   231', '   312', '   321', '  21 3', '  213 ', '  2 13', '  2 31', '  231 ', '  23 1', '  31 2', '  312 ', '  3 12', '  3 21', '  321 ', '  32 1', ' 1  23', ' 1  32', ' 1 2 3', ' 1 23 ', ' 1 3 2', ' 1 32 ', ' 1  23', ' 1  32', ' 1 2 3', ' 1 23 ', ' 1 3 2', ' 1 32 ', ' 12  3', ' 12 3 ', ' 12  3', ' 12 3 ', ' 123  ', ' 123  ', ' 13  2', ' 13 2 ', ' 13  2', ' 13 2 ', ' 132  ', ' 132  ', '   123', '   132', '   213', '   231', '   312', '   321', '  1 23', '  1 32', '  12 3', '  123 ', '  13 2', '  132 ', '  2 13', '  2 31', '  21 3', '  213 ', '  23 1', '  231 ', '  3 12', '  3 21', '  31 2', '  312 ', '  32 1', '  321 ', ' 2 1 3', ' 2 13 ', ' 2  13', ' 2  31', ' 2 31 ', ' 2 3 1', ' 21  3', ' 21 3 ', ' 21  3', ' 21 3 ', ' 213  ', ' 213  ', ' 2  13', ' 2  31', ' 2 1 3', ' 2 13 ', ' 2 3 1', ' 2 31 ', ' 23 1 ', ' 23  1', ' 231  ', ' 231  ', ' 23  1', ' 23 1 ', ' 3 1 2', ' 3 12 ', ' 3  12', ' 3  21', ' 3 21 ', ' 3 2 1', ' 31  2', ' 31 2 ', ' 31  2', ' 31 2 ', ' 312  ', ' 312  ', ' 3  12', ' 3  21', ' 3 1 2', ' 3 12 ', ' 3 2 1', ' 3 21 ', ' 32 1 ', ' 32  1', ' 321  ', ' 321  ', ' 32  1', ' 32 1 ', '3 1 2 ', '3 1  2', '3 12  ', '3 12  ', '3 1  2', '3 1 2 ', '3  12 ', '3  1 2', '3  21 ', '3  2 1', '3   12', '3   21', '3 21  ', '3 21  ', '3 2 1 ', '3 2  1', '3 2 1 ', '3 2  1', '3  1 2', '3  12 ', '3   12', '3   21', '3  21 ', '3  2 1', '31  2 ', '31   2', '31 2  ', '31 2  ', '31   2', '31  2 ', '31  2 ', '31   2', '31 2  ', '31 2  ', '31   2', '31  2 ', '312   ', '312   ', '312   ', '312   ', '312   ', '312   ', '31   2', '31  2 ', '31   2', '31  2 ', '31 2  ', '31 2  ', '3  12 ', '3  1 2', '3  21 ', '3  2 1', '3   12', '3   21', '3 1 2 ', '3 1  2', '3 12  ', '3 12  ', '3 1  2', '3 1 2 ', '3 2 1 ', '3 2  1', '3 21  ', '3 21  ', '3 2  1', '3 2 1 ', '3   12', '3   21', '3  1 2', '3  12 ', '3  2 1', '3  21 ', '32 1  ', '32 1  ', '32  1 ', '32   1', '32  1 ', '32   1', '321   ', '321   ', '321   ', '321   ', '321   ', '321   ', '32  1 ', '32   1', '32 1  ', '32 1  ', '32   1', '32  1 ', '32  1 ', '32   1', '32 1  ', '32 1  ', '32   1', '32  1 ', '3  1 2', '3  12 ', '3   12', '3   21', '3  21 ', '3  2 1', '3 1  2', '3 1 2 ', '3 1  2', '3 1 2 ', '3 12  ', '3 12  ', '3   12', '3   21', '3  1 2', '3  12 ', '3  2 1', '3  21 ', '3 2 1 ', '3 2  1', '3 21  ', '3 21  ', '3 2  1', '3 2 1 '] 720\n"
     ]
    }
   ],
   "source": [
    "def permute(s, result = \"\"):\n",
    "    if len(s) == 0:\n",
    "        return [result]\n",
    "    \n",
    "    permutations = []\n",
    "\n",
    "    for i in range(len(s)):\n",
    "        ch = s[i]\n",
    "        rest = s[:i] + s[i+1:]\n",
    "        permutations += permute(rest, result + ch)\n",
    "    return permutations\n",
    "\n",
    "s = input()\n",
    "print(permute(s) , len(permute(s)))"
   ]
  },
  {
   "cell_type": "markdown",
   "id": "9ca5fc99-7699-44f1-af2f-97bae981b0b9",
   "metadata": {},
   "source": [
    "6"
   ]
  },
  {
   "cell_type": "code",
   "execution_count": 18,
   "id": "9f1dcaf6-3845-4f68-a080-047cb39f2f9b",
   "metadata": {},
   "outputs": [
    {
     "name": "stdin",
     "output_type": "stream",
     "text": [
      " tr rt uy\n"
     ]
    },
    {
     "name": "stdout",
     "output_type": "stream",
     "text": [
      "uy rt tr\n"
     ]
    }
   ],
   "source": [
    "def reverse(str):\n",
    "    words = str.split()\n",
    "    reversed_words = words[::-1]\n",
    "    return ' '.join(reversed_words)\n",
    "\n",
    "str = input()\n",
    "\n",
    "print(reverse(str))\n"
   ]
  },
  {
   "cell_type": "markdown",
   "id": "f5e3c668-78ed-463d-babc-1cf12020347c",
   "metadata": {},
   "source": [
    "7"
   ]
  },
  {
   "cell_type": "code",
   "execution_count": 27,
   "id": "b54e766a-00a1-4e9d-9b09-af2a72430252",
   "metadata": {},
   "outputs": [
    {
     "name": "stdin",
     "output_type": "stream",
     "text": [
      " 4 5 6 \n"
     ]
    },
    {
     "name": "stdout",
     "output_type": "stream",
     "text": [
      "False\n"
     ]
    }
   ],
   "source": [
    "def has_33(nums):\n",
    "    for i in range(len(nums)-1):\n",
    "        if nums[i] == 3 and nums[i+1] == 3:\n",
    "            return True\n",
    "    return False\n",
    "\n",
    "nums = list(map(int, input().split()))\n",
    "\n",
    "print(has_33(nums))"
   ]
  },
  {
   "cell_type": "markdown",
   "id": "21af993e-cad1-42c5-ae00-c5c4b2e1d125",
   "metadata": {},
   "source": [
    "8"
   ]
  },
  {
   "cell_type": "code",
   "execution_count": 30,
   "id": "357ad9d3-80aa-4c39-a76c-7f9b2f03fb84",
   "metadata": {},
   "outputs": [
    {
     "name": "stdin",
     "output_type": "stream",
     "text": [
      " 0 0 7\n"
     ]
    },
    {
     "name": "stdout",
     "output_type": "stream",
     "text": [
      "True\n"
     ]
    }
   ],
   "source": [
    "def spy_game(nums):\n",
    "    \n",
    "    code = [0,0,7]\n",
    "    for num in nums:\n",
    "        if num == code[0]:\n",
    "            code.pop(0)\n",
    "        if not code:\n",
    "            return True\n",
    "    return False\n",
    "\n",
    "nums = list(map(int, input().split()))\n",
    "print(spy_game(nums))  \n",
    "        \n",
    "        "
   ]
  },
  {
   "cell_type": "markdown",
   "id": "e761b196-b6af-4c13-b772-0ed164dd0558",
   "metadata": {},
   "source": [
    "9"
   ]
  },
  {
   "cell_type": "code",
   "execution_count": 33,
   "id": "bf1a071c-b698-4655-bef4-ec1f9294a764",
   "metadata": {},
   "outputs": [
    {
     "name": "stdin",
     "output_type": "stream",
     "text": [
      " 3\n"
     ]
    },
    {
     "name": "stdout",
     "output_type": "stream",
     "text": [
      "113.09733552923254\n"
     ]
    }
   ],
   "source": [
    "# v = 4/3 p * r^3\n",
    "import math\n",
    "\n",
    "def volume(r):\n",
    "    return 4/3 * math.pi * r**3\n",
    "\n",
    "r = int(input())\n",
    "print(volume(r))"
   ]
  },
  {
   "cell_type": "markdown",
   "id": "97cc1392-f15e-4397-b85d-2271ddac3a11",
   "metadata": {},
   "source": [
    "10"
   ]
  },
  {
   "cell_type": "code",
   "execution_count": 36,
   "id": "ce76ac3b-20cb-4bd2-be36-76de414b69a8",
   "metadata": {},
   "outputs": [
    {
     "name": "stdin",
     "output_type": "stream",
     "text": [
      " 2 2 3 4 6 6 4\n"
     ]
    },
    {
     "name": "stdout",
     "output_type": "stream",
     "text": [
      "[2, 3, 4, 6]\n"
     ]
    }
   ],
   "source": [
    "def unique(nums):\n",
    "    list = []\n",
    "    \n",
    "    for num in nums:\n",
    "        if num not in list:\n",
    "            list.append(num)\n",
    "    return list\n",
    "\n",
    "nums = list(map(int,input().split()))\n",
    "print(unique(nums))"
   ]
  },
  {
   "cell_type": "markdown",
   "id": "e079bc2d-b28b-453e-84a4-24fd138f9557",
   "metadata": {},
   "source": [
    "11"
   ]
  },
  {
   "cell_type": "code",
   "execution_count": 39,
   "id": "f6be0556-3e21-4236-8478-53660e4dd54c",
   "metadata": {},
   "outputs": [
    {
     "name": "stdin",
     "output_type": "stream",
     "text": [
      " 11222211\n"
     ]
    },
    {
     "name": "stdout",
     "output_type": "stream",
     "text": [
      "palindrome\n"
     ]
    }
   ],
   "source": [
    "def palindrome(s):\n",
    "    return s == s[::-1]\n",
    "\n",
    "s = input()\n",
    "\n",
    "\n",
    "if palindrome(s):\n",
    "    print(\"palindrome\")\n",
    "else:\n",
    "    print(\"no\")"
   ]
  },
  {
   "cell_type": "markdown",
   "id": "54f457b6-e5e2-44d5-941d-ce289d88ddb5",
   "metadata": {},
   "source": [
    "12"
   ]
  },
  {
   "cell_type": "code",
   "execution_count": 42,
   "id": "81f30a6b-130c-4040-93b8-0d1e37fdf6e6",
   "metadata": {},
   "outputs": [
    {
     "name": "stdin",
     "output_type": "stream",
     "text": [
      " 4 5 7 8\n"
     ]
    },
    {
     "name": "stdout",
     "output_type": "stream",
     "text": [
      "****\n",
      "*****\n",
      "*******\n",
      "********\n"
     ]
    }
   ],
   "source": [
    "def histogram(nums):\n",
    "    for num in nums:\n",
    "        print('*'*num)\n",
    "        \n",
    "nums = list(map(int,input().split()))\n",
    "histogram(nums)\n",
    "         \n",
    "        "
   ]
  },
  {
   "cell_type": "markdown",
   "id": "6d64a24e-51d4-4a71-87df-1ea426d1f235",
   "metadata": {},
   "source": [
    "13"
   ]
  },
  {
   "cell_type": "code",
   "execution_count": 45,
   "id": "60d1b669-23b2-443e-93e5-392b48b51491",
   "metadata": {},
   "outputs": [
    {
     "name": "stdout",
     "output_type": "stream",
     "text": [
      "hello, what is your name\n"
     ]
    },
    {
     "name": "stdin",
     "output_type": "stream",
     "text": [
      " enlik\n"
     ]
    },
    {
     "name": "stdout",
     "output_type": "stream",
     "text": [
      "Well, enlik, I am thinking of a number between 1 and 20.\n",
      "Take a guess\n"
     ]
    },
    {
     "name": "stdin",
     "output_type": "stream",
     "text": [
      " 3\n"
     ]
    },
    {
     "name": "stdout",
     "output_type": "stream",
     "text": [
      "is too low\n",
      "Take a guess\n"
     ]
    },
    {
     "name": "stdin",
     "output_type": "stream",
     "text": [
      " 7\n"
     ]
    },
    {
     "name": "stdout",
     "output_type": "stream",
     "text": [
      "is too low\n",
      "Take a guess\n"
     ]
    },
    {
     "name": "stdin",
     "output_type": "stream",
     "text": [
      " 9\n"
     ]
    },
    {
     "name": "stdout",
     "output_type": "stream",
     "text": [
      "is too low\n",
      "Take a guess\n"
     ]
    },
    {
     "name": "stdin",
     "output_type": "stream",
     "text": [
      " 13\n"
     ]
    },
    {
     "name": "stdout",
     "output_type": "stream",
     "text": [
      "is too low\n",
      "Take a guess\n"
     ]
    },
    {
     "name": "stdin",
     "output_type": "stream",
     "text": [
      " 15\n"
     ]
    },
    {
     "name": "stdout",
     "output_type": "stream",
     "text": [
      "is too high\n",
      "Take a guess\n"
     ]
    },
    {
     "name": "stdin",
     "output_type": "stream",
     "text": [
      " 14\n"
     ]
    },
    {
     "name": "stdout",
     "output_type": "stream",
     "text": [
      "good job enlik!, you guessed number in 6 guesses\n"
     ]
    }
   ],
   "source": [
    "import random\n",
    "def guess():\n",
    "    print(\"hello, what is your name\")\n",
    "    name = input()\n",
    "    print(f\"Well, {name}, I am thinking of a number between 1 and 20.\")\n",
    "    number = random.randint(1,20)\n",
    "    count = 0\n",
    "    \n",
    "    while True:\n",
    "        print(\"Take a guess\")\n",
    "        guess = int(input())\n",
    "        count += 1\n",
    "        \n",
    "        if guess < number:\n",
    "            print(\"is too low\")\n",
    "        elif guess > number:\n",
    "            print(\"is too high\")\n",
    "        else:\n",
    "            print(f\"good job {name}!, you guessed number in {count} guesses\")\n",
    "            break\n",
    "guess()\n",
    "    "
   ]
  }
 ],
 "metadata": {
  "kernelspec": {
   "display_name": "Python [conda env:base] *",
   "language": "python",
   "name": "conda-base-py"
  },
  "language_info": {
   "codemirror_mode": {
    "name": "ipython",
    "version": 3
   },
   "file_extension": ".py",
   "mimetype": "text/x-python",
   "name": "python",
   "nbconvert_exporter": "python",
   "pygments_lexer": "ipython3",
   "version": "3.12.7"
  }
 },
 "nbformat": 4,
 "nbformat_minor": 5
}
