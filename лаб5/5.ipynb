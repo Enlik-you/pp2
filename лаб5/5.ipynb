{
 "cells": [
  {
   "cell_type": "code",
   "execution_count": 2,
   "id": "c6942275-6415-4e14-8579-96bf73c485a1",
   "metadata": {},
   "outputs": [
    {
     "name": "stdin",
     "output_type": "stream",
     "text": [
      " almab\n"
     ]
    },
    {
     "name": "stdout",
     "output_type": "stream",
     "text": [
      "True\n"
     ]
    }
   ],
   "source": [
    "import re\n",
    "text=input()\n",
    "if re.search(\"a+b*\",text):\n",
    "    print (\"True\")\n",
    "else:\n",
    "    print(\"False\")"
   ]
  },
  {
   "cell_type": "code",
   "execution_count": 4,
   "id": "be65db5c-4d22-44e1-beef-c79780620272",
   "metadata": {},
   "outputs": [
    {
     "name": "stdin",
     "output_type": "stream",
     "text": [
      " ddabbf\n"
     ]
    },
    {
     "name": "stdout",
     "output_type": "stream",
     "text": [
      "False\n"
     ]
    }
   ],
   "source": [
    "import re\n",
    "text=input()\n",
    "if re.search(\"a+b{2,3}$\",text):\n",
    "    print (\"True\")\n",
    "else:\n",
    "    print(\"False\")"
   ]
  },
  {
   "cell_type": "code",
   "execution_count": 6,
   "id": "adfed4a4-85ec-4fbc-b9d9-3e37553616d3",
   "metadata": {},
   "outputs": [
    {
     "name": "stdin",
     "output_type": "stream",
     "text": [
      " `1122\n"
     ]
    },
    {
     "name": "stdout",
     "output_type": "stream",
     "text": [
      "False\n"
     ]
    }
   ],
   "source": [
    "import re\n",
    "text=input()\n",
    "if re.search(\"[a-z]+(_[a-z]+)\",text):\n",
    "    print (\"True\")\n",
    "else:\n",
    "    print(\"False\")"
   ]
  },
  {
   "cell_type": "code",
   "execution_count": 8,
   "id": "6cd1e181-99ac-4a5a-af1c-5fb0db0670eb",
   "metadata": {},
   "outputs": [
    {
     "name": "stdin",
     "output_type": "stream",
     "text": [
      " 222222\n"
     ]
    },
    {
     "name": "stdout",
     "output_type": "stream",
     "text": [
      "False\n"
     ]
    }
   ],
   "source": [
    "import re\n",
    "text=input()\n",
    "if re.search(\"[A-Z]+([a-z]+)\",text):\n",
    "    print (\"True\")\n",
    "else:\n",
    "    print(\"False\")"
   ]
  },
  {
   "cell_type": "code",
   "execution_count": 10,
   "id": "5e3ca3ab-29c3-43f0-bce2-82f7b2d7da80",
   "metadata": {},
   "outputs": [
    {
     "name": "stdin",
     "output_type": "stream",
     "text": [
      " alm\n"
     ]
    },
    {
     "name": "stdout",
     "output_type": "stream",
     "text": [
      "False\n"
     ]
    }
   ],
   "source": [
    "import re\n",
    "text=input()\n",
    "if re.search(\"a+[a-z]*b+\",text):\n",
    "    print (\"True\")\n",
    "else:\n",
    "    print(\"False\")"
   ]
  },
  {
   "cell_type": "code",
   "execution_count": 30,
   "id": "e17edd88-d417-4921-bef8-47295579a80e",
   "metadata": {},
   "outputs": [
    {
     "name": "stdin",
     "output_type": "stream",
     "text": [
      " qqqqqqqqqqqqqqs_ddm\n"
     ]
    },
    {
     "name": "stdout",
     "output_type": "stream",
     "text": [
      "qqqqqqqqqqqqqqs_ddm\n"
     ]
    }
   ],
   "source": [
    "import re\n",
    "text=input()\n",
    "new_text = re.sub(r\"[\\s,\\.]\", \":\", text)\n",
    "print(new_text)"
   ]
  },
  {
   "cell_type": "code",
   "execution_count": 28,
   "id": "7838b171-6bd5-4c72-8327-ef9d9a8da0cd",
   "metadata": {},
   "outputs": [
    {
     "name": "stdin",
     "output_type": "stream",
     "text": [
      " aaaaaaa_ww\n"
     ]
    },
    {
     "name": "stdout",
     "output_type": "stream",
     "text": [
      "aaaaaaaWw\n"
     ]
    }
   ],
   "source": [
    "a = input()\n",
    "new = \"\"\n",
    "i=0\n",
    "while i<len(a):\n",
    "    if a[i] == \"_\":\n",
    "        new += a[i + 1].upper()\n",
    "        a = a[:i] + a[i+1:]\n",
    "    else:\n",
    "        new += a[i]\n",
    "    i+=1\n",
    "print(new)"
   ]
  },
  {
   "cell_type": "code",
   "execution_count": 16,
   "id": "3fdc39ac-7793-44f3-af36-0c3ffa247009",
   "metadata": {},
   "outputs": [
    {
     "name": "stdin",
     "output_type": "stream",
     "text": [
      " hello world\n"
     ]
    },
    {
     "name": "stdout",
     "output_type": "stream",
     "text": [
      "['hello', 'world']\n"
     ]
    }
   ],
   "source": [
    "import re\n",
    "a=input()\n",
    "result = re.findall(r'[a-z]+|[A-Z][a-z]*', a)\n",
    "print(result)"
   ]
  },
  {
   "cell_type": "code",
   "execution_count": 26,
   "id": "8b9d1b50-5cd6-493d-96eb-1cfdffb97325",
   "metadata": {},
   "outputs": [
    {
     "name": "stdin",
     "output_type": "stream",
     "text": [
      " HelloWrrTY\n"
     ]
    },
    {
     "name": "stdout",
     "output_type": "stream",
     "text": [
      "Hello Wrr TY\n"
     ]
    }
   ],
   "source": [
    "import re\n",
    "\n",
    "a = input()\n",
    "\n",
    "\n",
    "result = re.sub(r'([a-z])([A-Z])', r'\\1 \\2', a)\n",
    "\n",
    "print(result)\n"
   ]
  },
  {
   "cell_type": "code",
   "execution_count": 20,
   "id": "d1c5ae00-b79a-424e-af0a-77c8535881fc",
   "metadata": {},
   "outputs": [
    {
     "name": "stdin",
     "output_type": "stream",
     "text": [
      " AAAAwww\n"
     ]
    },
    {
     "name": "stdout",
     "output_type": "stream",
     "text": [
      "_a_a_a_awww\n"
     ]
    }
   ],
   "source": [
    "a=input()\n",
    "i=0\n",
    "result=\"\"\n",
    "while i<len(a):\n",
    "    if (a[i].isupper()):\n",
    "        result+=\"_\"\n",
    "        result+=a[i].lower()\n",
    "    else:\n",
    "        result+=a[i]\n",
    "    i+=1\n",
    "print(result)"
   ]
  },
  {
   "cell_type": "code",
   "execution_count": null,
   "id": "f8e034ce-bce1-44ed-82e0-ceccec3023a0",
   "metadata": {},
   "outputs": [],
   "source": []
  }
 ],
 "metadata": {
  "kernelspec": {
   "display_name": "Python [conda env:base] *",
   "language": "python",
   "name": "conda-base-py"
  },
  "language_info": {
   "codemirror_mode": {
    "name": "ipython",
    "version": 3
   },
   "file_extension": ".py",
   "mimetype": "text/x-python",
   "name": "python",
   "nbconvert_exporter": "python",
   "pygments_lexer": "ipython3",
   "version": "3.12.7"
  }
 },
 "nbformat": 4,
 "nbformat_minor": 5
}
