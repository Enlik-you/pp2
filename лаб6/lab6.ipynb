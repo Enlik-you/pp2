{
 "cells": [
  {
   "cell_type": "markdown",
   "id": "0a81cfb7-44b1-4387-b11f-7ad50db76ff9",
   "metadata": {},
   "source": [
    "1"
   ]
  },
  {
   "cell_type": "code",
   "execution_count": 2,
   "id": "9fb9f98f-e4de-4422-9fc0-b9ed82e99b20",
   "metadata": {},
   "outputs": [
    {
     "name": "stdin",
     "output_type": "stream",
     "text": [
      " 4 5\n"
     ]
    },
    {
     "name": "stdout",
     "output_type": "stream",
     "text": [
      "20\n"
     ]
    }
   ],
   "source": [
    "from functools import reduce\n",
    "\n",
    "num = list(map(int,input().split()))\n",
    "\n",
    "a = reduce(lambda x, y: x*y, num)\n",
    "print(a)"
   ]
  },
  {
   "cell_type": "markdown",
   "id": "cfd4b0e1-5702-4fc6-becd-cdae68e96a15",
   "metadata": {},
   "source": [
    "2"
   ]
  },
  {
   "cell_type": "code",
   "execution_count": 5,
   "id": "b883e387-ebb0-47f2-acf5-74a082fc10d8",
   "metadata": {},
   "outputs": [
    {
     "name": "stdin",
     "output_type": "stream",
     "text": [
      " AAAsss\n"
     ]
    },
    {
     "name": "stdout",
     "output_type": "stream",
     "text": [
      "3 3\n"
     ]
    }
   ],
   "source": [
    "st = input()\n",
    "up_c = 0\n",
    "low_c = 0\n",
    "\n",
    "for i in range(len(st)):\n",
    "    if st[i].isupper():\n",
    "        up_c += 1\n",
    "    elif st[i].islower():\n",
    "        low_c += 1\n",
    "\n",
    "print(up_c, low_c)  "
   ]
  },
  {
   "cell_type": "markdown",
   "id": "05c51d29-db83-48be-b833-dcb533f66e7f",
   "metadata": {},
   "source": [
    "3"
   ]
  },
  {
   "cell_type": "code",
   "execution_count": 8,
   "id": "a2a751bd-6a4e-4526-bf1a-a897135f5cd8",
   "metadata": {},
   "outputs": [
    {
     "name": "stdin",
     "output_type": "stream",
     "text": [
      " arra\n"
     ]
    },
    {
     "name": "stdout",
     "output_type": "stream",
     "text": [
      "YES\n"
     ]
    }
   ],
   "source": [
    "st = input()\n",
    "\n",
    "if st == st[::-1]:\n",
    "    print(\"YES\")\n",
    "else:\n",
    "    print(\"No\")"
   ]
  },
  {
   "cell_type": "markdown",
   "id": "22885a1d-8e84-44ea-8386-d7c653875a8e",
   "metadata": {},
   "source": [
    "4"
   ]
  },
  {
   "cell_type": "code",
   "execution_count": 11,
   "id": "d2a566ea-ef83-4afc-b18d-6a4b6438f5f6",
   "metadata": {},
   "outputs": [
    {
     "name": "stdin",
     "output_type": "stream",
     "text": [
      "Sample Input: 333\n",
      "Sample Output: 66\n"
     ]
    },
    {
     "name": "stdout",
     "output_type": "stream",
     "text": [
      "Square root of 333 after 66 miliseconds is 18.24828759089466\n"
     ]
    }
   ],
   "source": [
    "import time\n",
    "import math\n",
    "\n",
    "number = int(input(\"Sample Input:\"))\n",
    "delay = int(input(\"Sample Output:\"))\n",
    "\n",
    "time.sleep(delay / 1000)  \n",
    "sqrt_result = math.sqrt(number)  \n",
    "\n",
    "print(f\"Square root of {number} after {delay} miliseconds is {sqrt_result}\")"
   ]
  },
  {
   "cell_type": "markdown",
   "id": "f81dced9-83af-4b8c-b619-52c958977ae6",
   "metadata": {},
   "source": [
    "5"
   ]
  },
  {
   "cell_type": "code",
   "execution_count": 14,
   "id": "8366579c-97cd-4cbe-9256-12e0d3d368ea",
   "metadata": {},
   "outputs": [
    {
     "name": "stdout",
     "output_type": "stream",
     "text": [
      "all elements tuple true True\n"
     ]
    }
   ],
   "source": [
    "values = (1, True, \"hello\")  \n",
    "result = all(values) \n",
    "\n",
    "print(\"all elements tuple true\", result)"
   ]
  },
  {
   "cell_type": "markdown",
   "id": "bcf27542-3f08-4331-a9b4-38dce39d0521",
   "metadata": {},
   "source": [
    "6"
   ]
  },
  {
   "cell_type": "code",
   "execution_count": 21,
   "id": "60945cf1-48c1-4c10-84bb-27a430ee38aa",
   "metadata": {},
   "outputs": [
    {
     "name": "stdout",
     "output_type": "stream",
     "text": [
      "Only directories: \n",
      ".ipynb_checkpoints\n",
      "-----------------------\n",
      "Only files: \n",
      "lab6.ipynb\n",
      "sample.ipynb\n",
      "sample.txt\n",
      "-----------------------\n",
      "Directories and files: \n",
      ".ipynb_checkpoints\n",
      "lab6.ipynb\n",
      "sample.ipynb\n",
      "sample.txt\n"
     ]
    }
   ],
   "source": [
    "import os\n",
    "\n",
    "path = '/Users/user/Desktop/лаб6'\n",
    "\n",
    "my_list = os.listdir(path)\n",
    "\n",
    "print('Only directories: ')\n",
    "\n",
    "\n",
    "for element in my_list:\n",
    "    full_path = os.path.join(path, element)\n",
    "    if os.path.isdir(full_path):\n",
    "        print(element)\n",
    "\n",
    "print('-----------------------')\n",
    "\n",
    "print('Only files: ')\n",
    "\n",
    "for element in my_list:\n",
    "    full_path = os.path.join(path, element)\n",
    "    if os.path.isfile(full_path):\n",
    "        print(element)\n",
    "\n",
    "\n",
    "print('-----------------------')\n",
    "\n",
    "print('Directories and files: ')\n",
    "\n",
    "for element in my_list: \n",
    "    print(element)"
   ]
  },
  {
   "cell_type": "markdown",
   "id": "fb7d276d-13fe-469d-ac67-1a64dd1f3859",
   "metadata": {},
   "source": [
    "7"
   ]
  },
  {
   "cell_type": "code",
   "execution_count": 24,
   "id": "d2f8236a-6585-4b40-9542-c59262bcb51b",
   "metadata": {},
   "outputs": [
    {
     "name": "stdout",
     "output_type": "stream",
     "text": [
      "True\n",
      "True\n",
      "True\n",
      "True\n"
     ]
    }
   ],
   "source": [
    "import os\n",
    "\n",
    "path = '/Users/user/Desktop/лаб6/sample.ipynb'\n",
    "\n",
    "print(os.access(path, os.F_OK)) # existence\n",
    "print(os.access(path, os.R_OK)) # readability \n",
    "print(os.access(path, os.W_OK)) # writability\n",
    "print(os.access(path, os.X_OK)) # executability "
   ]
  },
  {
   "cell_type": "markdown",
   "id": "bd3e4e1b-15a7-4c8c-ade5-c763461ef33b",
   "metadata": {},
   "source": [
    "8"
   ]
  },
  {
   "cell_type": "code",
   "execution_count": 27,
   "id": "5d9e9aec-5071-4418-bac1-e03be6f0062d",
   "metadata": {},
   "outputs": [
    {
     "name": "stdout",
     "output_type": "stream",
     "text": [
      "Path exists!\n",
      "Filename: лаб6\n",
      "Directory: /Users/user/Desktop\n"
     ]
    }
   ],
   "source": [
    "import os\n",
    "\n",
    "path = '/Users/user/Desktop/лаб6'\n",
    "\n",
    "if os.path.exists(path):\n",
    "    print(\"Path exists!\")\n",
    "    print(\"Filename:\", os.path.basename(path))  \n",
    "    print(\"Directory:\", os.path.dirname(path))  \n",
    "else:\n",
    "    print(\"Path does not exist.\")"
   ]
  },
  {
   "cell_type": "code",
   "execution_count": 52,
   "id": "0ea90235-7f43-45fa-a40c-98c573f08f74",
   "metadata": {},
   "outputs": [
    {
     "name": "stdout",
     "output_type": "stream",
     "text": [
      "0\n"
     ]
    }
   ],
   "source": [
    "with open('/Users/user/Desktop/лаб6/sample.txt','r') as my_file:\n",
    "    cnt = 0\n",
    "    for line in my_file:\n",
    "        cnt += 1\n",
    "\n",
    "print(cnt) "
   ]
  },
  {
   "cell_type": "markdown",
   "id": "05657640-fdfa-4ace-8aef-8ddf18f95049",
   "metadata": {},
   "source": [
    "10"
   ]
  },
  {
   "cell_type": "code",
   "execution_count": 54,
   "id": "89b3a81a-df7f-4624-bd20-ddeab05d2a01",
   "metadata": {},
   "outputs": [
    {
     "name": "stdout",
     "output_type": "stream",
     "text": [
      "List successfully written to file.\n"
     ]
    }
   ],
   "source": [
    "import os\n",
    "\n",
    "my_list = ['1. apple', '2. banana', '3. cherry', '4. mango']\n",
    "\n",
    "file_path = '/Users/user/Desktop/лаб6/sample.txt'\n",
    "\n",
    "os.makedirs(os.path.dirname(file_path), exist_ok=True)\n",
    "\n",
    "with open(file_path, 'w') as my_file:\n",
    "    my_file.writelines(fruit + '\\n' for fruit in my_list)\n",
    "\n",
    "print(\"List successfully written to file.\")"
   ]
  },
  {
   "cell_type": "code",
   "execution_count": 36,
   "id": "0af98899-a766-4ea5-b9dd-9b8b8dcccb88",
   "metadata": {},
   "outputs": [
    {
     "name": "stdout",
     "output_type": "stream",
     "text": [
      "26 файлов успешно созданы.\n"
     ]
    }
   ],
   "source": [
    "import string\n",
    "\n",
    "\n",
    "for letter in string.ascii_uppercase:\n",
    "    with open(f\"{letter}.txt\", \"w\") as file:\n",
    "        file.write(f\"This is {letter}.txt\\n\")\n",
    "\n",
    "print(\"26 файлов успешно созданы.\")\n"
   ]
  },
  {
   "cell_type": "code",
   "execution_count": 56,
   "id": "053af772-3b60-4a31-9a73-c457b05fe409",
   "metadata": {},
   "outputs": [],
   "source": [
    "with open('/Users/user/Desktop/лаб6/sample.txt','r') as my_file_1:\n",
    "    with open('sample2.txt', 'w') as my_file_2:\n",
    "        content = my_file_1.read()\n",
    "        my_file_2.write(content)"
   ]
  },
  {
   "cell_type": "code",
   "execution_count": 50,
   "id": "553253e6-1905-46a6-931a-27c8d63d04c5",
   "metadata": {},
   "outputs": [
    {
     "name": "stdout",
     "output_type": "stream",
     "text": [
      "File does not exist\n"
     ]
    }
   ],
   "source": [
    "import os\n",
    "\n",
    "path = '/Users/user/Desktop/лаб6/sample2.txt'\n",
    "\n",
    "if os.path.exists(path):\n",
    "    if os.access(path, os.F_OK) and os.access(path, os.R_OK) and os.access(path, os.W_OK):\n",
    "        os.remove(path)\n",
    "    else: \n",
    "        print('File is not accessible')\n",
    "else:\n",
    "    print('File does not exist')"
   ]
  },
  {
   "cell_type": "code",
   "execution_count": null,
   "id": "e76d9806-b058-4df6-8cfa-5e6d14528590",
   "metadata": {},
   "outputs": [],
   "source": []
  }
 ],
 "metadata": {
  "kernelspec": {
   "display_name": "Python [conda env:base] *",
   "language": "python",
   "name": "conda-base-py"
  },
  "language_info": {
   "codemirror_mode": {
    "name": "ipython",
    "version": 3
   },
   "file_extension": ".py",
   "mimetype": "text/x-python",
   "name": "python",
   "nbconvert_exporter": "python",
   "pygments_lexer": "ipython3",
   "version": "3.12.7"
  }
 },
 "nbformat": 4,
 "nbformat_minor": 5
}
